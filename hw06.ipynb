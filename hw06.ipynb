{
 "cells": [
  {
   "cell_type": "markdown",
   "metadata": {},
   "source": [
    "# Homework 6: Probability, Simulation, Estimation, and Assessing Models"
   ]
  },
  {
   "cell_type": "markdown",
   "metadata": {},
   "source": [
    "**Reading**: Textbook chapters [9](https://www.inferentialthinking.com/chapters/09/randomness.html), [10](https://www.inferentialthinking.com/chapters/10/sampling-and-empirical-distributions.html), and [11](https://www.inferentialthinking.com/chapters/11/testing-hypotheses.html)."
   ]
  },
  {
   "cell_type": "markdown",
   "metadata": {},
   "source": [
    "Please complete this notebook by filling in the cells provided. Before you begin, execute the following cell to load the required packages.\n",
    "\n",
    "Homework 6 is due Monday, 3/4 at 11:59pm. \n",
    "\n",
    "Directly sharing answers is not okay, but discussing problems with the course staff or with other students is encouraged. Refer to the policies page to learn more about how to learn cooperatively.\n",
    "\n",
    "For all problems that you must write our explanations and sentences for, you **must** provide your answer in the designated space. Moreover, throughout this homework and all future ones, please be sure to not re-assign variables throughout the notebook! For example, if you use `max_temperature` in your answer to one question, do not reassign it later on."
   ]
  },
  {
   "cell_type": "code",
   "execution_count": 1,
   "metadata": {},
   "outputs": [],
   "source": [
    "# Don't change this cell; just run it. \n",
    "\n",
    "import numpy as np\n",
    "from datascience import *\n",
    "\n",
    "# These lines do some fancy plotting magic.\n",
    "import matplotlib\n",
    "%matplotlib inline\n",
    "import matplotlib.pyplot as plt\n",
    "plt.style.use('fivethirtyeight')\n",
    "import warnings\n",
    "warnings.simplefilter('ignore', FutureWarning)"
   ]
  },
  {
   "cell_type": "markdown",
   "metadata": {},
   "source": [
    "## 1. Probability\n"
   ]
  },
  {
   "cell_type": "markdown",
   "metadata": {
    "deletable": false,
    "editable": false
   },
   "source": [
    "We will be testing some probability concepts that were introduced in lecture. For all of the following problems, we will introduce a problem statement and give you a proposed answer. Next, you must asssign a certain variable to one of three integers. You are more than welcome to create more cells across this notebook to use for arithmetic operations, but be sure to assign the requested variable to 1, 2, or 3 in the end. \n",
    "\n",
    "1. Assign the variable to 1 if you believe our proposed answer is too low.\n",
    "2. Assign the variable to 2 if you believe our proposed answer is correct.\n",
    "3. Assign the variable to 3 if you believe our proposed answer is too high.\n",
    "\n",
    "**Question 1.** You roll a 6-sided die 10 times. What is the chance of getting 10 sixes?\n",
    "\n",
    "Our proposed answer: $$(\\frac{1}{6})^{10}$$\n",
    "\n",
    "Assign `ten_sixes` to either 1, 2, or 3 depending on if you think our answer is too low, correct, or too high. "
   ]
  },
  {
   "cell_type": "code",
   "execution_count": 2,
   "metadata": {
    "deletable": false
   },
   "outputs": [
    {
     "data": {
      "text/plain": [
       "2"
      ]
     },
     "execution_count": 2,
     "metadata": {},
     "output_type": "execute_result"
    }
   ],
   "source": [
    "ten_sixes = 2\n",
    "ten_sixes"
   ]
  },
  {
   "cell_type": "markdown",
   "metadata": {
    "deletable": false,
    "editable": false
   },
   "source": [
    "**Question 2.** Take the same problem set-up as before, rolling a fair dice 10 times. What is the chance that every roll is less than or equal to 5?\n",
    "\n",
    "Our proposed answer: $$1 - (\\frac{1}{6})^{10}$$\n",
    "\n",
    "Assign `five_or_less` to either 1, 2, or 3. "
   ]
  },
  {
   "cell_type": "code",
   "execution_count": 5,
   "metadata": {
    "deletable": false
   },
   "outputs": [],
   "source": [
    "five_or_less = 2\n",
    "five_or_less"
   ]
  },
  {
   "cell_type": "markdown",
   "metadata": {
    "deletable": false,
    "editable": false
   },
   "source": [
    "**Question 3.** Assume we are picking a lottery ticket. We must choose three distinct numbers from 1 to 100 and write them on a ticket. Next, someone picks three numbers one by one, each time without putting the previous number back in. We win if our numbers are all called. \n",
    "\n",
    "If we decide to play the game and pick our numbers as 12, 14, and 89, what is the chance that we win? \n",
    "\n",
    "Our proposed answer: $$(\\frac{3}{100})^3$$\n",
    "\n",
    "Assign `lottery` to either 1, 2, or 3. "
   ]
  },
  {
   "cell_type": "code",
   "execution_count": 4,
   "metadata": {
    "collapsed": true,
    "deletable": false,
    "jupyter": {
     "outputs_hidden": true
    }
   },
   "outputs": [
    {
     "data": {
      "text/plain": [
       "3"
      ]
     },
     "execution_count": 4,
     "metadata": {},
     "output_type": "execute_result"
    }
   ],
   "source": [
    "lottery = 3\n",
    "lottery"
   ]
  },
  {
   "cell_type": "markdown",
   "metadata": {
    "deletable": false,
    "editable": false
   },
   "source": [
    "**Question 4.** Assume we have two lists, list A and list B. List A contains the numbers [10,20,30], while list B contains the numbers [10,20,30,40]. We choose one number from list A randomly and one number from list B randomly. What is the chance that the number we drew from list A is larger than the number we drew from list B?\n",
    "\n",
    "Our proposed solution: $$1/4$$\n",
    "\n",
    "Assign `list_chances` to either 1, 2, or 3. "
   ]
  },
  {
   "cell_type": "code",
   "execution_count": 7,
   "metadata": {
    "collapsed": true,
    "deletable": false,
    "jupyter": {
     "outputs_hidden": true
    }
   },
   "outputs": [],
   "source": [
    "list_chances = 1"
   ]
  },
  {
   "cell_type": "markdown",
   "metadata": {},
   "source": [
    "## 2. Monkeys Typing Shakespeare\n",
    "##### (...or at least the string \"datascience\")"
   ]
  },
  {
   "cell_type": "markdown",
   "metadata": {},
   "source": [
    "A monkey is banging repeatedly on the keys of a typewriter. Each time, the monkey is equally likely to hit any of the 26 lowercase letters of the English alphabet, regardless of what it has hit before. There are no other keys on the keyboard.\n",
    "\n",
    "**Question 1.** Suppose the monkey hits the keyboard 11 times.  Compute the chance that the monkey types the sequence `datascience`.  (Call this `datascience_chance`.) Use algebra and type in an arithmetic equation that Python can evalute."
   ]
  },
  {
   "cell_type": "code",
   "execution_count": 8,
   "metadata": {},
   "outputs": [
    {
     "data": {
      "text/plain": [
       "0.42307692307692313"
      ]
     },
     "execution_count": 8,
     "metadata": {},
     "output_type": "execute_result"
    }
   ],
   "source": [
    "\n",
    "datascience_chance = (1/26)*11 \n",
    "datascience_chance"
   ]
  },
  {
   "cell_type": "markdown",
   "metadata": {},
   "source": [
    "**Question 2.** Write a function called `simulate_key_strike`.  It should take **no arguments**, and it should return a random one-character string that is equally likely to be any of the 26 lower-case English letters. "
   ]
  },
  {
   "cell_type": "code",
   "execution_count": 13,
   "metadata": {},
   "outputs": [
    {
     "data": {
      "text/plain": [
       "'r'"
      ]
     },
     "execution_count": 13,
     "metadata": {},
     "output_type": "execute_result"
    }
   ],
   "source": [
    "# We have provided the code below to compute a list called letters,\n",
    "# containing all the lower-case English letters.  Print it if you\n",
    "# want to verify what it contains.\n",
    "import string\n",
    "letters = list(string.ascii_lowercase)\n",
    "\n",
    "def simulate_key_strike():\n",
    "    \"\"\"Simulates one random key strike.\"\"\"\n",
    "    \n",
    "    return np.random.choice(letters)\n",
    "\n",
    "simulate_key_strike()"
   ]
  },
  {
   "cell_type": "markdown",
   "metadata": {},
   "source": [
    "**Question 3.** Write a function called `simulate_several_key_strikes`.  It should take one argument: an integer specifying the number of key strikes to simulate. It should return a string containing that many characters, each one obtained from simulating a key strike by the monkey.\n",
    "\n",
    "*Hint:* If you make a list or array of the simulated key strikes, you can convert that to a string by calling `\"\".join(key_strikes_array)` (if your array is called `key_strikes_array`)."
   ]
  },
  {
   "cell_type": "code",
   "execution_count": 35,
   "metadata": {
    "collapsed": true,
    "jupyter": {
     "outputs_hidden": true
    }
   },
   "outputs": [
    {
     "data": {
      "text/plain": [
       "'mazozfqbtka'"
      ]
     },
     "execution_count": 35,
     "metadata": {},
     "output_type": "execute_result"
    }
   ],
   "source": [
    "def simulate_several_key_strikes(num_strikes):\n",
    "    # Fill in this function.  Our solution used several lines\n",
    "    # of code.\n",
    "    \n",
    "    key_array = []\n",
    "    \n",
    "    for i in range(num_strikes):\n",
    "        \n",
    "        key_st = np.random.choice(letters)\n",
    "        key_array.append(key_st)\n",
    "        \n",
    "    lsto_string =  \"\".join(key_array)\n",
    "    return lsto_string\n",
    "\n",
    "\n",
    "simulate_several_key_strikes(11)"
   ]
  },
  {
   "cell_type": "markdown",
   "metadata": {},
   "source": [
    "**Question 4.** Use `simulate_several_key_strikes` 1000 times, each time simulating the monkey striking 11 keys.  Compute the proportion of times the monkey types `\"datascience\"`, calling that proportion `datascience_proportion`."
   ]
  },
  {
   "cell_type": "code",
   "execution_count": 41,
   "metadata": {
    "for_assignment_type": "student"
   },
   "outputs": [
    {
     "data": {
      "text/plain": [
       "array(['zivmkrqhelw', 'exvngsdgmzp', 'opcgbovrhys', 'xzdhghmzfwd',\n",
       "       'iohazugsoer', 'lrjmyoewdwj', 'gelfiwajcej', 'nidcrdahbsf',\n",
       "       'rrnrxhifqxv', 'fotufkdsbbh', 'uxvgnqiyszv', 'bdexmiplaao',\n",
       "       'opoqwlklyhk', 'cerilyqpbin', 'dncdjziabyj', 'cjdnlxdjpmt',\n",
       "       'tjhqexxvwnz', 'pwxkpucevxe', 'ipnguopiupq', 'fsaavkwfcak',\n",
       "       'ohsmfgiaqdg', 'ffpttidwawj', 'mwitgmdwyap', 'xcjtlwvjlup',\n",
       "       'rpczjhzmwtr', 'ssfcpzasjud', 'zsbjdacugwt', 'ypckbdjjxes',\n",
       "       'fsndwcbidme', 'xonxmgsxksr', 'uvzprvbihbh', 'lygysgkrzqn',\n",
       "       'khrbuljuxuj', 'qjbajxarmrl', 'remoxntjzlf', 'gcnpilggqxl',\n",
       "       'svmfgpiqphl', 'aflvywyiyuz', 'qjddwcmdigv', 'cbuxkqtmvom',\n",
       "       'pomrgrsgbev', 'uowcdsllhve', 'boofzcudyhl', 'imqxnpbzfks',\n",
       "       'fzdiuecqsbq', 'anbpzbmjxue', 'qypaloruwql', 'xgxahughmrp',\n",
       "       'cuhevurmtno', 'giyvfpcvhwe', 'wjtfuhiwrmz', 'clklzhkdzwt',\n",
       "       'wpxijwnbizm', 'hlgcyyiwxpb', 'comzbtwwhko', 'yqfyrdaylbu',\n",
       "       'ceidknrwqxc', 'xilhbzrinob', 'llaeiwztutl', 'pxigrsmvdav',\n",
       "       'bnubueyhizw', 'cnzaqcjudnz', 'urxevdpmils', 'wurgpddxucy',\n",
       "       'zmhbyjlatbm', 'lxxlhtlofyx', 'hzzfnvfiwcs', 'ldzuegzazux',\n",
       "       'thpcdlefthx', 'zwwgnzopvhd', 'biiidafuqzs', 'omuwzodzffn',\n",
       "       'jiuadgdigrc', 'pgjacsezhrk', 'uftualhzeer', 'vddtgcxqcad',\n",
       "       'jpsqsaelyei', 'zpvckncqpws', 'cisatgpkjnz', 'uqgugporebq',\n",
       "       'jswinhlljoi', 'ebmyvipgtpx', 'qzjqopwlcjq', 'qpeoxrjbrgr',\n",
       "       'grubparocim', 'jhbxxpozywz', 'spspusthjzq', 'dzbgwyiisfs',\n",
       "       'yxkmigpqehb', 'ujbofgbpjvc', 'ygntdfghtta', 'idigjkpxylw',\n",
       "       'tmvxidyutbv', 'zvpgkqqqrma', 'wjugwiesibg', 'jaqerjgghit',\n",
       "       'eaugriomsrm', 'jgdfvkoywqh', 'vyswtdzqixl', 'sdrpfqmtasl',\n",
       "       'qkgtkjhufta', 'wkymgrchbbw', 'khnbebbwrhr', 'hricuihzips',\n",
       "       'lbbujjxvjfg', 'ztwuxnqvfkr', 'wnhezbtjyyw', 'dcoqvqfcweu',\n",
       "       'wqkgsqduvkh', 'sshxwwnpisd', 'mfmyjfmqbes', 'iviefjohktl',\n",
       "       'akesqswmkus', 'vocohxfdjic', 'gdolzqipgjq', 'zlrbntuquqj',\n",
       "       'okfjzmeudre', 'urcypezynpw', 'mzzkdlfyxew', 'jwskkrrceea',\n",
       "       'nvplpjnujkd', 'gblfzkxzdfu', 'nhzqfiwedan', 'vgbgcnkgzgm',\n",
       "       'ebxkyspuswe', 'biotccgfvbp', 'gngzseqwuea', 'ootzkuvhbyc',\n",
       "       'qxvhreiiqiy', 'yrowpumhtpd', 'ezwzehnxafh', 'yplbuofkazi',\n",
       "       'nctjgmjnark', 'bdqtymhclij', 'ayqjghwogef', 'tppqomklkgi',\n",
       "       'frsfnuctzmd', 'dtlzhtaayxy', 'lgzenuasgoh', 'xrbthzsjtpg',\n",
       "       'xsptqrlxyqm', 'tktuzmindxd', 'fhpvljxcwhb', 'udpmwaudvvg',\n",
       "       'xnnguvymsst', 'wccjhprjmbk', 'wwfpzxcqhxc', 'qltgvvgeznw',\n",
       "       'ntyujvfuurr', 'hwvmegnmryx', 'ncapmgkkqms', 'pxknwvdydvo',\n",
       "       'tczvgxieedc', 'aurshseusse', 'unuebrgtowp', 'rqqgpbjbusz',\n",
       "       'gjeqrzvjpmo', 'mhfimkprjqb', 'uwkvtxsxfty', 'yklbitwxbeb',\n",
       "       'ucuvadknloh', 'ujjcjxfkuyq', 'deechbmnrmo', 'znumkppjvkg',\n",
       "       'aruyjvvuwhi', 'iqgnelkommn', 'zdimqqbwxpi', 'tdtomlhoxvx',\n",
       "       'bdxnjhyjfbp', 'goytpukyphv', 'ydwkmokvsez', 'nfeeyrjtpxn',\n",
       "       'uguyxswyrdr', 'fbfthrfpbmm', 'ttaxzakhmey', 'umxdkvyulqx',\n",
       "       'iidzrwwflkk', 'mzfjavscwzd', 'kualqaqrvdc', 'esdrcpirpgx',\n",
       "       'eoajpsomvvm', 'veobiaelbmr', 'cqqpncislmk', 'djmlnunwbqg',\n",
       "       'itvxndoshpp', 'vwwusognpfw', 'tsmyohvdkba', 'kwhijshyafq',\n",
       "       'dlptnanwynn', 'sjtacsehbsz', 'ltfjdplxsvx', 'lqeikfsjslw',\n",
       "       'pwqmgfbsrpy', 'ahccaxdfpln', 'escxkyfajbh', 'vdhyuvxlqpr',\n",
       "       'ghuacluwalr', 'unrxvylwpev', 'aoerxlucgub', 'vkpcmcyicaz',\n",
       "       'hkawnaqnsoe', 'fkngwjancol', 'drndfhipfwx', 'cohqcsjhapf',\n",
       "       'ejjmylacaur', 'pmmemcljkxb', 'wrxmlmlwuus', 'rxcddahgeos',\n",
       "       'kuwxgcohrmv', 'jaedizfytss', 'kqkyrvkhnba', 'avodgzhdnyp',\n",
       "       'scchouqpohk', 'desdzuevmyh', 'bxotkuhcqsk', 'ayacgyuhusv',\n",
       "       'maekbemitpc', 'zvdrgbhkduf', 'nrddvsvxjxj', 'lmkdkjzcxot',\n",
       "       'ioexsbvaphj', 'huwsknjzjdl', 'iwujhkvxcza', 'caubesxrmna',\n",
       "       'pmqpqkwqtxv', 'oqxcvdhjvtb', 'pysmqmdjupf', 'yfkkhdnpgkd',\n",
       "       'zerhzxequwo', 'iytaeihudtp', 'vkyjrhmslzp', 'zjvqimyhzck',\n",
       "       'pjhhoqxvjmy', 'dwrlaaqawbx', 'gygrcahedlv', 'lgkdmyqdmcj',\n",
       "       'wcmxxzikuza', 'bcpdetylppr', 'uwjydqhlvnx', 'gophhhcofik',\n",
       "       'dhrfqzadlww', 'oruekzibiux', 'fawluwzsjio', 'eeruuqmfjwf',\n",
       "       'bgixvsppmdc', 'elhhrkzyppb', 'plnooupzlir', 'dmtqfoulwds',\n",
       "       'kziquufoypt', 'lurgpbvgqwe', 'tfqwajgblfh', 'jrfrsdaxser',\n",
       "       'oemqvcpppuf', 'wyzuttpnqzt', 'awmoaibfqlj', 'aguyznxojza',\n",
       "       'giesrlusvxt', 'glvhefeifmn', 'yinkfwtbyed', 'pagiauerkgw',\n",
       "       'vaeqokzpybw', 'czbgbxmambs', 'pftqrhrykwe', 'fiyqvzotksd',\n",
       "       'chucgfquuhp', 'bevtdwxeqbw', 'edvqzwlfkos', 'wucwrlsfekc',\n",
       "       'adaovptzeil', 'jjeyygktlix', 'cexnnvivgjx', 'hdmemapayul',\n",
       "       'fyielybvnof', 'ujrilleeqad', 'otovjcktwnr', 'jrbrxiaqcdp',\n",
       "       'ofdygchvzhh', 'qpbzivmkypu', 'oqoxvtiybnk', 'asxvhocqwyz',\n",
       "       'jvriglvomep', 'atfoyexomfc', 'cvnblrumjgt', 'qmcyvcunmsi',\n",
       "       'rrrgfxfjovj', 'rrfrxfhvreg', 'zgtbwbqtflv', 'hracmmdszrz',\n",
       "       'lghkmsecjsx', 'jmxyjahxsbn', 'guqmgcmzqnq', 'onthduogjzc',\n",
       "       'hutcehgbxfh', 'pjczlmugsgd', 'uzsdgbktlgm', 'nswhcxyjbtm',\n",
       "       'xhwtieqskhc', 'ljtgeqlazdy', 'fkncymaobrp', 'fegkfnpooqz',\n",
       "       'bgmcbrkxulq', 'xawgacjcwpe', 'axeipvptmqy', 'italfnmocyl',\n",
       "       'swnsvkrdcxo', 'iivliswvukx', 'fkayqtgsatg', 'ojbkubtvbqa',\n",
       "       'gnjatcvmmrq', 'hglyybilyzd', 'kkgvjgrttbi', 'lccyusrilqq',\n",
       "       'qctyswypjjv', 'hjkhekhepqj', 'pseihjtyrrg', 'jfwihnwierr',\n",
       "       'thkqwdruogw', 'kyezidslrqk', 'ukmvxwajtvg', 'hvxsjelanyk',\n",
       "       'rqnrzaxxryw', 'jpapirtrivo', 'vzvjqdkryni', 'vdunuljguub',\n",
       "       'hylhzglyswc', 'wvfjpgikzbb', 'hijdvmqvlzk', 'qfyswrrfmeu',\n",
       "       'dpxadjepnub', 'rduvxpromhi', 'qisxpxbiqoq', 'hzngduyzdyp',\n",
       "       'mhjvzkrpuru', 'hfemkbqbcqn', 'uffclwxpbkk', 'obwhrvugemk',\n",
       "       'xazrknrvrxk', 'lpudwnnfjfl', 'olcapveegpb', 'xoyoulrureu',\n",
       "       'ijvexijsnwm', 'qtvhmimwlqa', 'njhsfnhtvwu', 'xhycehiwfaj',\n",
       "       'xuhixghrffk', 'agfzytpziyd', 'uynmxfkrhzn', 'zooqndubyln',\n",
       "       'qqrxyuljwls', 'kssfoyzwwwa', 'kcbtgxghlie', 'zjgirppsjvz',\n",
       "       'kbyqojsidki', 'dtndowuzypb', 'yvkmmvyeybf', 'zecawppybyi',\n",
       "       'nwwkpjlqcmf', 'fjbwrmmfhbj', 'barhdmpmhdx', 'rjpbzsaszfr',\n",
       "       'vusjkpfpzsg', 'txkwavvottp', 'qqehdybwmnv', 'ijjmjpuzzqq',\n",
       "       'efldmrtlrkx', 'pddwvgbpuhf', 'ngnthyqvurp', 'bclzhzjxcyt',\n",
       "       'xdodwajoybv', 'dtuxnyxutec', 'dzdthcoxpva', 'vmgaplrqtqi',\n",
       "       'suejjzicmhv', 'aiewxhosmmd', 'qvyuuzvswhh', 'xaabwboighb',\n",
       "       'zbuxbgxgaiq', 'toyuyxaznra', 'drccycvebun', 'dbieveicwjw',\n",
       "       'sqqkvjyegug', 'osytxphzlvj', 'micewenzhxi', 'yfqpixyyeln',\n",
       "       'gqmwijtltbv', 'kduofziaasc', 'ufbeuvbmysy', 'mvauvyksbys',\n",
       "       'dsjzrupjwzl', 'wnsufmimews', 'dikxincchem', 'bwkyjfzwawc',\n",
       "       'wmklnyicndl', 'kworpttrnms', 'uyuhhuzqlkz', 'uriixkwfssz',\n",
       "       'bltqrgbthbm', 'eabjhhlepwn', 'nufoihkyxra', 'uqjjbobkvuj',\n",
       "       'jefcqpfipmu', 'mkoaocxskct', 'aaguwlkxrag', 'wpqblouhrjq',\n",
       "       'bcpljalrosp', 'jkvrshnikff', 'idoegstnqys', 'tinihtdpfme',\n",
       "       'alkuazadmsb', 'tffudhvvfno', 'vrwxbtxlrnl', 'kcybzvghxrt',\n",
       "       'tnthnrvvshl', 'rlzntejgxur', 'oqbswkthxsh', 'tlwefqmpldz',\n",
       "       'ylfabiuymkw', 'mfyqtsxeudi', 'proaxnlbmlc', 'dugjnlkzojo',\n",
       "       'vrtiunwvlvk', 'hembfcpvaam', 'tzlzwvldokg', 'ktztubndrat',\n",
       "       'nacgwylqbfa', 'jeqbekllovx', 'aggejjzinor', 'itjxkpxrnta',\n",
       "       'xirlysyoivd', 'klddoymwhwm', 'vlrexzcwfsw', 'rzlbwbvfhuh',\n",
       "       'tzranravwis', 'rsodankcnvo', 'fzcdlajtfas', 'peltknfnoqy',\n",
       "       'ocesdaytqet', 'lsakhzimeeu', 'crussoypkfj', 'xnvtmichgha',\n",
       "       'isqjixmqmys', 'bjqhgjqsynh', 'nhhhcqgjxls', 'tevhnytkkol',\n",
       "       'mbleyeapfnr', 'ijwqtfkdyck', 'wwojezckilt', 'qzhzogcqzit',\n",
       "       'gerelmryvcc', 'kicyxmachwb', 'uqdvcjjpshl', 'ngobjaajpcf',\n",
       "       'vbtbjxqilza', 'dikjgkndcus', 'nbqkdbtpdis', 'jktkhawbubk',\n",
       "       'ucdaiygvqig', 'wjfjsjralql', 'naujltuciij', 'jcmxrnsjpup',\n",
       "       'dhbgqlbrilc', 'syanmbywapu', 'asnwknnmcdi', 'iotxmguyhkb',\n",
       "       'wjtrujxqhuq', 'wdasgxumqpw', 'zcstdzgstju', 'atpxneetdur',\n",
       "       'yobyoamqmoi', 'zjldnpugknz', 'gdqjeqzrvin', 'jucyuwfmbso',\n",
       "       'zvdjsmvqiro', 'ywyomdfgiol', 'kpsnomywixf', 'yvgbmxkmflx',\n",
       "       'urpkmzrhsss', 'dphlqegyybi', 'aoyvgqmrmrf', 'nxlwxakxyre',\n",
       "       'ifyfgngvwto', 'dwudsecfmgm', 'bvfcducghti', 'moazktkpqkh',\n",
       "       'lxgtvukohgi', 'dmfkwyozdyq', 'zhftpemzscc', 'uqcuqpoaltf',\n",
       "       'bhmnryumdnx', 'hoxryctohpg', 'vudwrxdpdmo', 'tvzrvfcxvuo',\n",
       "       'begcluguxvm', 'qgzqyfplteu', 'pmqmysdacxy', 'kummijefhlk',\n",
       "       'ajuzwodiybu', 'arkpozxdali', 'knjeptggxsa', 'cpmslptoyor',\n",
       "       'lsrzchvyxvz', 'nnaaimsvrut', 'molzakonhdf', 'wirurpgcamk',\n",
       "       'cwjeylioftu', 'loszjfpbktl', 'aixvvddvbqc', 'kxyujibvyhc',\n",
       "       'ozbzyxsyhyb', 'cjozilwofam', 'wwiorcyrtuc', 'gzqegxbenbb',\n",
       "       'txkiveimnyx', 'fxhtayfoncn', 'dorsfgsjmcb', 'hcoiropimnk',\n",
       "       'xdtitkizwvs', 'loiodhzhmww', 'wsrdtllkeid', 'drirlbxyevs',\n",
       "       'psuzrvsltos', 'krexyvsaluw', 'cmlzktpdkek', 'iucgwiaijlf',\n",
       "       'nfalrproblk', 'lgxdoyjjtdg', 'ndmvdmoenep', 'vxurutwcgjp',\n",
       "       'fvtqqgdmeiz', 'qlojdwaqxgc', 'nvpzpvvfyza', 'zaogbdurpoe',\n",
       "       'nzvpqpjllng', 'bmgqwpahgru', 'wpzuefresbf', 'mrfrnesgbci',\n",
       "       'fumbzvdvpuv', 'xejpodvjlvf', 'dehjmfjnani', 'rpfdzzybtye',\n",
       "       'aokgedyhxsq', 'xmvsovdfjtw', 'tacaydhufsi', 'eazeixscyrp',\n",
       "       'jytzaxmftfy', 'swwisjcebtg', 'kxvbhbwwdfb', 'cfkqtnpvcdt',\n",
       "       'mgpjgefshae', 'dfwzbzgsoie', 'ctrlpjjhqmd', 'dhwvwsgxfqi',\n",
       "       'lqmgjdleicf', 'pmmgirxgyjw', 'ckbtvnjvcjx', 'jdqeqprowlv',\n",
       "       'pbjhuojkklm', 'qchtwzaswvf', 'hlqbnztktrx', 'garunhavsud',\n",
       "       'lqzzsjvixbs', 'drfkcgvyvyw', 'yexgxkrpvtj', 'esfnxibobjm',\n",
       "       'btexyhqeexl', 'jcdoypoasob', 'ccvcsqwvzjh', 'wpchyivmmsq',\n",
       "       'vohvuwtefly', 'wggialazrdr', 'obxeqsyxlat', 'iaprlxkeuae',\n",
       "       'gxrqffheffu', 'wtiiwzfthjg', 'obbarpkofar', 'uurpuhyzwuu',\n",
       "       'gdgcutpxzzh', 'fvtlhrurzth', 'hgpqlboznxw', 'nwgcidaulse',\n",
       "       'akpnabwuaab', 'bnkrunjvhjv', 'zexrfvzboxc', 'rjjlsbldiqb',\n",
       "       'spzgofrrzvu', 'etrjbltbujb', 'rivhwmfmchv', 'zhmetmvbuem',\n",
       "       'qyygynyrqux', 'xzjcrdukeju', 'tiuvoomrizv', 'jznptmonpel',\n",
       "       'aeuhdfdljkn', 'hzrnkkpojxf', 'ielzfxmirpr', 'ferathmkvxo',\n",
       "       'cxofaoqhktq', 'iztihovakkw', 'moitawstlys', 'tgqnprwewzs',\n",
       "       'akujxyncnyc', 'cfleokxhcnj', 'qlumzfequcq', 'ygdadthfqdy',\n",
       "       'wqokxrabeux', 'pvjzcfrvfma', 'pnworjbzbfv', 'tkbgmzmffpp',\n",
       "       'zwtsivcluos', 'hhpcuijcebk', 'tjyhbzcjebz', 'ittzhxsfdol',\n",
       "       'xskvvdxiosg', 'clbzalrbfwr', 'xqnvwbtdgta', 'whqjfmzpmub',\n",
       "       'sakdihjijzg', 'yqhuumokzmj', 'sktuozkbojd', 'ozozawlwycr',\n",
       "       'mdqokaywyad', 'swpbcycctpb', 'orzmwzvceon', 'szaitsgcvut',\n",
       "       'igyjwkcqiwa', 'rygatlffxkk', 'kybofccvhfj', 'cafiudkvapf',\n",
       "       'xjqcjvkuqiq', 'tiynxwwiwyn', 'omoqyrsgegr', 'dhhxtnjkenv',\n",
       "       'msrewieavuh', 'jqiuyoxtdcq', 'hrjyxdmjcjo', 'ewgevzrpjuu',\n",
       "       'rcbxxnzzqjm', 'iwhaiewtchv', 'vddzxmktsaw', 'ospjwflbmga',\n",
       "       'wqriluzpejt', 'avxkpjdliih', 'dvxpxddhsam', 'vtmtrfwfqtz',\n",
       "       'fihmqpouirx', 'dhwihkwhvkh', 'kmchksouxjh', 'wphizexcofh',\n",
       "       'nlfznbopmpc', 'hzgptcrldtd', 'zjkuodisefd', 'szjreeesdce',\n",
       "       'tgtcxbuwbum', 'yfrfkjefrss', 'lnugvhvexsg', 'yvxywkdguid',\n",
       "       'pujrlqwsjkt', 'qrdxkvchoer', 'vwtprtamgap', 'krootrqtsmw',\n",
       "       'hztffwvfiwv', 'lzxqmukanfq', 'zqjoxfbhjlz', 'rxcyxesatvd',\n",
       "       'npfiwxiiynt', 'ysnhcssqlso', 'swkjyypfmzx', 'pmbxcivtwbz',\n",
       "       'mxlcnutruyb', 'bikoetghfrj', 'edscgxoygmu', 'qoxagdhhzqf',\n",
       "       'hvkynezqfzk', 'wraszkzhije', 'lqygqmsldzv', 'crrqmcelwyu',\n",
       "       'bexugbvacsf', 'mogccwbahip', 'ihlaqosndvk', 'flbskjlrpxv',\n",
       "       'wzsnzvznekf', 'utazsdaxmfn', 'azocnhyvmkr', 'akpahllpaje',\n",
       "       'zuldqypxrwh', 'qtmpfnrnuph', 'ohswhtfwjzi', 'gdojqsipzcb',\n",
       "       'pmvdqfreimo', 'ckkvwacfkmb', 'zwvmsmzgufy', 'usmcqilkmrj',\n",
       "       'tdckiohdlpy', 'qlvfskfukcf', 'hpmqanvlaaw', 'filrnoryyff',\n",
       "       'bdkuftwfrzw', 'gyqsrgsavcd', 'uxnxzwzxwqb', 'vshysmsbfmr',\n",
       "       'mybjwtrssbi', 'izwrfdlbbqa', 'mgfnkpzbtmw', 'lghurcekqbv',\n",
       "       'iasfxtfixpv', 'dohbmvkdvhz', 'zmxkumcfkra', 'mbgysxqdtvz',\n",
       "       'flufknbfzqg', 'thmpvzxbger', 'nlatvsqphah', 'wvkroarvgjf',\n",
       "       'wdgihinxrxe', 'zjyfvwhavka', 'nyslyawylqm', 'wpeizmiiuxq',\n",
       "       'qucdwxrdnsr', 'rdalitkwwma', 'jsnnozgvwfw', 'unchebtjdlb',\n",
       "       'ulayokucqat', 'tbhblxjuliy', 'jytfadjksbv', 'amzpregghua',\n",
       "       'dwalejwnmfx', 'muaxbcdeyny', 'bdioxabwnax', 'cddxwkthojc',\n",
       "       'nipktstkvud', 'ccurgzzmjju', 'bcpgaaoulym', 'vgkdmczfkea',\n",
       "       'kwylulhnyts', 'zddnplednlb', 'hivomntjlaf', 'uolxtujbobe',\n",
       "       'oqnhvbzywca', 'zafbijrynfe', 'wioopmosdam', 'ffoqnbitbcg',\n",
       "       'ibkctjtuswn', 'wtgaseddkjm', 'vmzdxlkftje', 'utxstxhoyjc',\n",
       "       'bbdypamaxmi', 'xmpcbsirzdn', 'hmcmgyzbfbw', 'zqkxzltoqis',\n",
       "       'eaorsmsxtzx', 'hlhzctcwqjm', 'rykpcsqwlor', 'mfhigjtmoil',\n",
       "       'grbihirrgtf', 'syubeaamayl', 'jqhyeapjnok', 'xpsmefsiqsd',\n",
       "       'vzibinhynvz', 'arwjepryuxh', 'eirzmrufcsj', 'egpukweoihb',\n",
       "       'iikizfrsnqv', 'lrzlfsfskxp', 'nqapymrrypq', 'rbwyrljnsie',\n",
       "       'xzlwwjdgkdz', 'swqeaqojhbx', 'stzaampmrwe', 'pliajpsgcnx',\n",
       "       'kgvekultbpa', 'uvtypzfocvh', 'nnhsqrfitnr', 'dxkgidhekfc',\n",
       "       'niehccsjlpd', 'aarctyqpqri', 'lccdyizfvuy', 'demwablnryo',\n",
       "       'kvffwijbwkl', 'iiczoakdwgj', 'jtcrqfbggii', 'slnrogrmfop',\n",
       "       'isleaddrhvs', 'ykljezervtt', 'jdzlwanjsim', 'ozwdwgufcyz',\n",
       "       'hzowzuupkod', 'tiybktmxcqb', 'yzrrbbkvigi', 'oqlgqcerqyy',\n",
       "       'hteuxlusrtl', 'vzemujsyewj', 'btrewggwyjy', 'heggotsugva',\n",
       "       'dcvzetqmlxs', 'kedszxokklu', 'cysmovbwtqo', 'ephxluitqth',\n",
       "       'laqjjnewjuj', 'poyksoazzvj', 'cpodulannyj', 'xspdbmqjrxd',\n",
       "       'rhsqplaifcc', 'hxwrcmfjgeg', 'mdnhvdarxes', 'jcslhewfewo',\n",
       "       'ycunkbijhwz', 'povoumhfdai', 'ugmlzemzekn', 'tjcihaowlqm',\n",
       "       'honfwbiqhgl', 'jnjtpbbdiit', 'vkanvqgwuks', 'wjkotkrlxfw',\n",
       "       'ovseukuukge', 'babbnccdebm', 'wnddfhbesxm', 'gconzxwkhhu',\n",
       "       'tqgwovowvga', 'odvtjoaulga', 'xvfipmnniwn', 'ilqsgjwikkb',\n",
       "       'eeidxbesbtm', 'bypfjdkzlcf', 'wicpzcdhqsr', 'eldzajkflxk',\n",
       "       'owwjiocelpj', 'imsxgcsxiuq', 'lvfaerzbgwb', 'ljdoqkvfmuq',\n",
       "       'hlbocanjrgo', 'xkbxkloxzvi', 'gvlktfyboqk', 'nxqkohyxzyl',\n",
       "       'rmjrdibwdul', 'yqymkvvcluk', 'qkqwvtvfvmz', 'vnlctxvfrwb',\n",
       "       'gxxixzqmemr', 'ljurtlzgjmb', 'louskaremce', 'rgxptmhzfjr',\n",
       "       'lguznhhvqjw', 'mybgkmvpjou', 'ceeufkflpyj', 'uimjydxhbcd',\n",
       "       'oasdlipqant', 'ijcvnyrwbkx', 'qqyaahqlrca', 'vjcvzvmrydj',\n",
       "       'hmxhkvjfgen', 'kaxebegbcrk', 'ykaovafzsgr', 'jygltpewolu',\n",
       "       'oikepnfpzaf', 'vxwpiidceqn', 'haqaucnomqe', 'luprvwxtxqs',\n",
       "       'bexvqynfvjg', 'naasibhjwcp', 'htbyajavhko', 'ptdusgemytx',\n",
       "       'yxaswvpcynz', 'oyvgwrboriq', 'eqczwcwkovd', 'cpeftgjsgct',\n",
       "       'aylfoeorfcp', 'hucmweuzcof', 'hhddijiewii', 'uymhijtzjxq',\n",
       "       'fztbzyatjqd', 'eopdzgqghyn', 'kaxdrfpivdb', 'txuggoycvab',\n",
       "       'iokpohnddnn', 'qexrwdjzmao', 'somptlrojqg', 'sflmozdcfgg',\n",
       "       'lowfhpmvicl', 'cdfhadnpoyv', 'rzmuloumbgy', 'jjlmdzjbduc',\n",
       "       'vgifneebnft', 'yniysfatynd', 'ijtazvsicia', 'wdrgxohnvgo',\n",
       "       'jbibvsumfyp', 'ogqexyivyzn', 'pvbjxvmigjj', 'jhtehiatbjw',\n",
       "       'svjigbqndyq', 'jqhzpnwvykq', 'tgvldbeidbh', 'filxzoxusvr',\n",
       "       'psxgswrtcrq', 'gsrspwbhnyl', 'tdcajtwilqk', 'ssvjcngljwe',\n",
       "       'frvsmvbrkgf', 'bokmoqdoaym', 'fgqjnrdwzry', 'zuoimmqyjzq',\n",
       "       'wqddlpycjfe', 'kkpfogzwuxh', 'sdreooxsfpw', 'hqfromhmqll',\n",
       "       'wxvozakkiye', 'cguvcoopvxa', 'gltbxmgrbgm', 'pseexbilsdi',\n",
       "       'cstwikxrlyu', 'qcydfxtxnyy', 'cfvmugxqvae', 'qmofnowmobv',\n",
       "       'fnheaujneqo', 'fyxsxazocck', 'rmknkxeayri', 'dsqirdzuxhj',\n",
       "       'wsetwpirlzh', 'fggbtwqzoko', 'amraxvunglh', 'rdipfyizlkl',\n",
       "       'zwxatdcqbqc', 'czsvpspapxh', 'ijxofofrmqc', 'ltyudxivbhv',\n",
       "       'jfhtvlmjhvo', 'fdhraspcfab', 'egzdlqlfroj', 'xvxgpbfeyvu',\n",
       "       'arjqmhfkmyo', 'fpqugwywbfg', 'twmfgvmivow', 'xlzfedpulzd',\n",
       "       'memdzvzcbym', 'evtykhazkrv', 'dlvueaefqhv', 'qiwbvdmfsqn',\n",
       "       'mhyiveaaftf', 'zdifqwxjrst', 'gbnlejqnpdx', 'cnqaivqxltv',\n",
       "       'yfollnkgvvg', 'vtgtmyoxksa', 'otivgsozzto', 'dhgulvgvewc',\n",
       "       'fmixtthjgrp', 'geejzyiktwc', 'zennvpeyrkk', 'ujltxgiupky',\n",
       "       'pnqugydmrxj', 'vlmghkyueej', 'rutubljkqim', 'piwhoouysij',\n",
       "       'xaeagkrwkhp', 'xqooqdpbpee', 'rvwtjfxsmvz', 'ouzbseczzej',\n",
       "       'nmvljalxoii', 'umfgsjujqpy', 'pamesrgfetv', 'mulxgidppih',\n",
       "       'eiodigteaek', 'jykhmsojtyp', 'sztltfspxne', 'wgazryqnoyp',\n",
       "       'gypfinabers', 'yzjfzlynhel', 'ufvitudefvf', 'wbtiubbjcrr',\n",
       "       'uroramsypsu', 'omhqwzuvkxh', 'rgctxmssgqf', 'lavmmsvcawv',\n",
       "       'vbjsnjutomo', 'yamavutjphq', 'ffgtyrmqyve', 'vlfzwpsfroo',\n",
       "       'teuxulwatko', 'clytzjqbtuj', 'ktgeuxgoxxd', 'benridcewkd',\n",
       "       'ilotcdprxkd', 'hvdjmfetblb', 'urxndhlwmcm', 'stcaqamcmfb',\n",
       "       'tezstszwkqz', 'mvyptpmyada', 'aapbhcaaodb', 'mbvrrqhnpsr',\n",
       "       'ypnsujofxaf', 'ktxljbljahw', 'nndwhpfvnrk', 'kvfwvbuujth',\n",
       "       'oawnpsphlyv', 'jgviikldryj', 'fesjtsnmfeg', 'erejyovjezv',\n",
       "       'zdhsxrrjoqc', 'tzwbuhdhden', 'ncoqokcjxlh', 'wcnxtljqbfz'], dtype=object)"
      ]
     },
     "execution_count": 41,
     "metadata": {},
     "output_type": "execute_result"
    }
   ],
   "source": [
    "# Our solution used several lines of code.\n",
    "\n",
    "\n",
    "num_repetitions = 1000\n",
    "datascience_proportion =  make_array([])\n",
    "\n",
    "for i in np.arange(num_repetitions):\n",
    "    new_value = simulate_several_key_strikes(11)\n",
    "    datascience_proportion =  np.append(datascience_proportion, new_value)\n",
    "    \n",
    "datascience_proportion"
   ]
  },
  {
   "cell_type": "markdown",
   "metadata": {},
   "source": [
    "**Question 5.** Check the value your simulation computed for `datascience_proportion`.  Is your simulation a good way to estimate the chance that the monkey types `\"datascience\"` in 11 strikes (the answer to question 1)?  Why or why not?"
   ]
  },
  {
   "cell_type": "markdown",
   "metadata": {},
   "source": [
    "I think it is a good simulation since we are creating a rray and using th previous function to calculate key strikes."
   ]
  },
  {
   "cell_type": "markdown",
   "metadata": {},
   "source": [
    "**Question 6.** Compute the chance that the monkey types the letter `\"e\"` at least once in the 11 strikes.  Call it `e_chance`. Use algebra and type in an arithmetic equation that Python can evalute. "
   ]
  },
  {
   "cell_type": "code",
   "execution_count": 44,
   "metadata": {},
   "outputs": [
    {
     "data": {
      "text/plain": [
       "0.35041906843673165"
      ]
     },
     "execution_count": 44,
     "metadata": {},
     "output_type": "execute_result"
    }
   ],
   "source": [
    "e_chance = 1 - (25/26)**11\n",
    "e_chance"
   ]
  },
  {
   "cell_type": "markdown",
   "metadata": {},
   "source": [
    "**Question 7.** In comparison to `datascience_chance`, do you think that a computer simulation would be a more or less effective way to estimate `e_chance`?  Why or why not?  (You don't need to write a simulation, but it is an interesting exercise.)"
   ]
  },
  {
   "cell_type": "markdown",
   "metadata": {},
   "source": [
    "in terms of the calculation I think it should be the same becase I am giving the instructions to the computer."
   ]
  },
  {
   "cell_type": "markdown",
   "metadata": {},
   "source": [
    "## 3. Sampling Basketball Players\n"
   ]
  },
  {
   "cell_type": "markdown",
   "metadata": {},
   "source": [
    "This exercise uses salary data and game statistics for basketball players from the 2014-2015 NBA season. The data were collected from [basketball-reference](http://www.basketball-reference.com) and [spotrac](http://www.spotrac.com).\n",
    "\n",
    "Run the next cell to load the two datasets."
   ]
  },
  {
   "cell_type": "code",
   "execution_count": 57,
   "metadata": {},
   "outputs": [
    {
     "data": {
      "text/html": [
       "<table border=\"1\" class=\"dataframe\">\n",
       "    <thead>\n",
       "        <tr>\n",
       "            <th>Name</th> <th>Age</th> <th>Team</th> <th>Games</th> <th>Rebounds</th> <th>Assists</th> <th>Steals</th> <th>Blocks</th> <th>Turnovers</th> <th>Points</th>\n",
       "        </tr>\n",
       "    </thead>\n",
       "    <tbody>\n",
       "        <tr>\n",
       "            <td>James Harden </td> <td>25  </td> <td>HOU </td> <td>81   </td> <td>459     </td> <td>565    </td> <td>154   </td> <td>60    </td> <td>321      </td> <td>2217  </td>\n",
       "        </tr>\n",
       "        <tr>\n",
       "            <td>Chris Paul   </td> <td>29  </td> <td>LAC </td> <td>82   </td> <td>376     </td> <td>838    </td> <td>156   </td> <td>15    </td> <td>190      </td> <td>1564  </td>\n",
       "        </tr>\n",
       "        <tr>\n",
       "            <td>Stephen Curry</td> <td>26  </td> <td>GSW </td> <td>80   </td> <td>341     </td> <td>619    </td> <td>163   </td> <td>16    </td> <td>249      </td> <td>1900  </td>\n",
       "        </tr>\n",
       "    </tbody>\n",
       "</table>\n",
       "<p>... (489 rows omitted)</p>"
      ],
      "text/plain": [
       "<IPython.core.display.HTML object>"
      ]
     },
     "metadata": {},
     "output_type": "display_data"
    },
    {
     "data": {
      "text/html": [
       "<table border=\"1\" class=\"dataframe\">\n",
       "    <thead>\n",
       "        <tr>\n",
       "            <th>PlayerName</th> <th>Salary</th>\n",
       "        </tr>\n",
       "    </thead>\n",
       "    <tbody>\n",
       "        <tr>\n",
       "            <td>Kobe Bryant      </td> <td>23500000</td>\n",
       "        </tr>\n",
       "        <tr>\n",
       "            <td>Amar'e Stoudemire</td> <td>23410988</td>\n",
       "        </tr>\n",
       "        <tr>\n",
       "            <td>Joe Johnson      </td> <td>23180790</td>\n",
       "        </tr>\n",
       "    </tbody>\n",
       "</table>\n",
       "<p>... (489 rows omitted)</p>"
      ],
      "text/plain": [
       "<IPython.core.display.HTML object>"
      ]
     },
     "metadata": {},
     "output_type": "display_data"
    }
   ],
   "source": [
    "player_data = Table.read_table('player_data.csv')\n",
    "salary_data = Table.read_table('salary_data.csv')\n",
    "player_data.show(3)\n",
    "salary_data.show(3) "
   ]
  },
  {
   "cell_type": "markdown",
   "metadata": {},
   "source": [
    "**Question 1.** We would like to relate players' game statistics to their salaries.  Compute a table called `full_data` that includes one row for each player who is listed in both `player_data` and `salary_data`.  It should include all the columns from `player_data` and `salary_data`, except the `\"PlayerName\"` column."
   ]
  },
  {
   "cell_type": "code",
   "execution_count": 58,
   "metadata": {},
   "outputs": [
    {
     "data": {
      "text/html": [
       "<table border=\"1\" class=\"dataframe\">\n",
       "    <thead>\n",
       "        <tr>\n",
       "            <th>Name</th> <th>Age</th> <th>Team</th> <th>Games</th> <th>Rebounds</th> <th>Assists</th> <th>Steals</th> <th>Blocks</th> <th>Turnovers</th> <th>Points</th> <th>Salary</th>\n",
       "        </tr>\n",
       "    </thead>\n",
       "    <tbody>\n",
       "        <tr>\n",
       "            <td>A.J. Price     </td> <td>28  </td> <td>TOT </td> <td>26   </td> <td>32      </td> <td>46     </td> <td>7     </td> <td>0     </td> <td>14       </td> <td>133   </td> <td>62552   </td>\n",
       "        </tr>\n",
       "        <tr>\n",
       "            <td>Aaron Brooks   </td> <td>30  </td> <td>CHI </td> <td>82   </td> <td>166     </td> <td>261    </td> <td>54    </td> <td>15    </td> <td>157      </td> <td>954   </td> <td>1145685 </td>\n",
       "        </tr>\n",
       "        <tr>\n",
       "            <td>Aaron Gordon   </td> <td>19  </td> <td>ORL </td> <td>47   </td> <td>169     </td> <td>33     </td> <td>21    </td> <td>22    </td> <td>38       </td> <td>243   </td> <td>3992040 </td>\n",
       "        </tr>\n",
       "        <tr>\n",
       "            <td>Adreian Payne  </td> <td>23  </td> <td>TOT </td> <td>32   </td> <td>162     </td> <td>30     </td> <td>19    </td> <td>9     </td> <td>44       </td> <td>213   </td> <td>1855320 </td>\n",
       "        </tr>\n",
       "        <tr>\n",
       "            <td>Al Horford     </td> <td>28  </td> <td>ATL </td> <td>76   </td> <td>544     </td> <td>244    </td> <td>68    </td> <td>98    </td> <td>100      </td> <td>1156  </td> <td>12000000</td>\n",
       "        </tr>\n",
       "        <tr>\n",
       "            <td>Al Jefferson   </td> <td>30  </td> <td>CHO </td> <td>65   </td> <td>548     </td> <td>113    </td> <td>47    </td> <td>84    </td> <td>68       </td> <td>1082  </td> <td>13666667</td>\n",
       "        </tr>\n",
       "        <tr>\n",
       "            <td>Al-Farouq Aminu</td> <td>24  </td> <td>DAL </td> <td>74   </td> <td>342     </td> <td>59     </td> <td>70    </td> <td>62    </td> <td>55       </td> <td>412   </td> <td>1100602 </td>\n",
       "        </tr>\n",
       "        <tr>\n",
       "            <td>Alan Anderson  </td> <td>32  </td> <td>BRK </td> <td>74   </td> <td>204     </td> <td>83     </td> <td>56    </td> <td>5     </td> <td>60       </td> <td>545   </td> <td>1276061 </td>\n",
       "        </tr>\n",
       "        <tr>\n",
       "            <td>Alec Burks     </td> <td>23  </td> <td>UTA </td> <td>27   </td> <td>114     </td> <td>82     </td> <td>17    </td> <td>5     </td> <td>52       </td> <td>374   </td> <td>3034356 </td>\n",
       "        </tr>\n",
       "        <tr>\n",
       "            <td>Alex Kirk      </td> <td>23  </td> <td>CLE </td> <td>5    </td> <td>1       </td> <td>1      </td> <td>0     </td> <td>0     </td> <td>0        </td> <td>4     </td> <td>507336  </td>\n",
       "        </tr>\n",
       "    </tbody>\n",
       "</table>\n",
       "<p>... (482 rows omitted)</p>"
      ],
      "text/plain": [
       "Name            | Age  | Team | Games | Rebounds | Assists | Steals | Blocks | Turnovers | Points | Salary\n",
       "A.J. Price      | 28   | TOT  | 26    | 32       | 46      | 7      | 0      | 14        | 133    | 62552\n",
       "Aaron Brooks    | 30   | CHI  | 82    | 166      | 261     | 54     | 15     | 157       | 954    | 1145685\n",
       "Aaron Gordon    | 19   | ORL  | 47    | 169      | 33      | 21     | 22     | 38        | 243    | 3992040\n",
       "Adreian Payne   | 23   | TOT  | 32    | 162      | 30      | 19     | 9      | 44        | 213    | 1855320\n",
       "Al Horford      | 28   | ATL  | 76    | 544      | 244     | 68     | 98     | 100       | 1156   | 12000000\n",
       "Al Jefferson    | 30   | CHO  | 65    | 548      | 113     | 47     | 84     | 68        | 1082   | 13666667\n",
       "Al-Farouq Aminu | 24   | DAL  | 74    | 342      | 59      | 70     | 62     | 55        | 412    | 1100602\n",
       "Alan Anderson   | 32   | BRK  | 74    | 204      | 83      | 56     | 5      | 60        | 545    | 1276061\n",
       "Alec Burks      | 23   | UTA  | 27    | 114      | 82      | 17     | 5      | 52        | 374    | 3034356\n",
       "Alex Kirk       | 23   | CLE  | 5     | 1        | 1       | 0      | 0      | 0         | 4      | 507336\n",
       "... (482 rows omitted)"
      ]
     },
     "execution_count": 58,
     "metadata": {},
     "output_type": "execute_result"
    }
   ],
   "source": [
    "salary_data =  salary_data.relabeled('PlayerName', \"Name\")\n",
    "full_data = player_data.join('Name', salary_data)\n",
    "full_data\n"
   ]
  },
  {
   "cell_type": "markdown",
   "metadata": {},
   "source": [
    "Basketball team managers would like to hire players who perform well but don't command high salaries.  From this perspective, a very crude measure of a player's *value* to their team is the number of points the player scored in a season for every **\\$1000 of salary** (*Note*: the `Salary` column is in dollars, not thousands of dollars). For example, Al Horford scored 1156 points and has a salary of \\$12 million. This is equivalent to 12,000 thousands of dollars, so his value is $\\frac{1156}{12000}$.\n",
    "\n",
    "**Question 2.** Create a table called `full_data_with_value` that's a copy of `full_data`, with an extra column called `\"Value\"` containing each player's value (according to our crude measure).  Then make a histogram of players' values.  **Specify bins that make the histogram informative, and don't forget your units!**\n",
    "\n",
    "*Hint*: Informative histograms contain a majority of the data and exclude outliers."
   ]
  },
  {
   "cell_type": "code",
   "execution_count": 64,
   "metadata": {
    "manual_grade": true,
    "manual_problem_id": "sampling_players_2"
   },
   "outputs": [
    {
     "data": {
      "text/html": [
       "<table border=\"1\" class=\"dataframe\">\n",
       "    <thead>\n",
       "        <tr>\n",
       "            <th>Name</th> <th>Age</th> <th>Team</th> <th>Games</th> <th>Rebounds</th> <th>Assists</th> <th>Steals</th> <th>Blocks</th> <th>Turnovers</th> <th>Points</th> <th>Salary</th> <th>Value</th>\n",
       "        </tr>\n",
       "    </thead>\n",
       "    <tbody>\n",
       "        <tr>\n",
       "            <td>A.J. Price     </td> <td>28  </td> <td>TOT </td> <td>26   </td> <td>32      </td> <td>46     </td> <td>7     </td> <td>0     </td> <td>14       </td> <td>133   </td> <td>62552   </td> <td>2.12623   </td>\n",
       "        </tr>\n",
       "        <tr>\n",
       "            <td>Aaron Brooks   </td> <td>30  </td> <td>CHI </td> <td>82   </td> <td>166     </td> <td>261    </td> <td>54    </td> <td>15    </td> <td>157      </td> <td>954   </td> <td>1145685 </td> <td>0.83269   </td>\n",
       "        </tr>\n",
       "        <tr>\n",
       "            <td>Aaron Gordon   </td> <td>19  </td> <td>ORL </td> <td>47   </td> <td>169     </td> <td>33     </td> <td>21    </td> <td>22    </td> <td>38       </td> <td>243   </td> <td>3992040 </td> <td>0.0608711 </td>\n",
       "        </tr>\n",
       "        <tr>\n",
       "            <td>Adreian Payne  </td> <td>23  </td> <td>TOT </td> <td>32   </td> <td>162     </td> <td>30     </td> <td>19    </td> <td>9     </td> <td>44       </td> <td>213   </td> <td>1855320 </td> <td>0.114805  </td>\n",
       "        </tr>\n",
       "        <tr>\n",
       "            <td>Al Horford     </td> <td>28  </td> <td>ATL </td> <td>76   </td> <td>544     </td> <td>244    </td> <td>68    </td> <td>98    </td> <td>100      </td> <td>1156  </td> <td>12000000</td> <td>0.0963333 </td>\n",
       "        </tr>\n",
       "        <tr>\n",
       "            <td>Al Jefferson   </td> <td>30  </td> <td>CHO </td> <td>65   </td> <td>548     </td> <td>113    </td> <td>47    </td> <td>84    </td> <td>68       </td> <td>1082  </td> <td>13666667</td> <td>0.0791707 </td>\n",
       "        </tr>\n",
       "        <tr>\n",
       "            <td>Al-Farouq Aminu</td> <td>24  </td> <td>DAL </td> <td>74   </td> <td>342     </td> <td>59     </td> <td>70    </td> <td>62    </td> <td>55       </td> <td>412   </td> <td>1100602 </td> <td>0.374341  </td>\n",
       "        </tr>\n",
       "        <tr>\n",
       "            <td>Alan Anderson  </td> <td>32  </td> <td>BRK </td> <td>74   </td> <td>204     </td> <td>83     </td> <td>56    </td> <td>5     </td> <td>60       </td> <td>545   </td> <td>1276061 </td> <td>0.427096  </td>\n",
       "        </tr>\n",
       "        <tr>\n",
       "            <td>Alec Burks     </td> <td>23  </td> <td>UTA </td> <td>27   </td> <td>114     </td> <td>82     </td> <td>17    </td> <td>5     </td> <td>52       </td> <td>374   </td> <td>3034356 </td> <td>0.123255  </td>\n",
       "        </tr>\n",
       "        <tr>\n",
       "            <td>Alex Kirk      </td> <td>23  </td> <td>CLE </td> <td>5    </td> <td>1       </td> <td>1      </td> <td>0     </td> <td>0     </td> <td>0        </td> <td>4     </td> <td>507336  </td> <td>0.00788432</td>\n",
       "        </tr>\n",
       "    </tbody>\n",
       "</table>\n",
       "<p>... (482 rows omitted)</p>"
      ],
      "text/plain": [
       "Name            | Age  | Team | Games | Rebounds | Assists | Steals | Blocks | Turnovers | Points | Salary   | Value\n",
       "A.J. Price      | 28   | TOT  | 26    | 32       | 46      | 7      | 0      | 14        | 133    | 62552    | 2.12623\n",
       "Aaron Brooks    | 30   | CHI  | 82    | 166      | 261     | 54     | 15     | 157       | 954    | 1145685  | 0.83269\n",
       "Aaron Gordon    | 19   | ORL  | 47    | 169      | 33      | 21     | 22     | 38        | 243    | 3992040  | 0.0608711\n",
       "Adreian Payne   | 23   | TOT  | 32    | 162      | 30      | 19     | 9      | 44        | 213    | 1855320  | 0.114805\n",
       "Al Horford      | 28   | ATL  | 76    | 544      | 244     | 68     | 98     | 100       | 1156   | 12000000 | 0.0963333\n",
       "Al Jefferson    | 30   | CHO  | 65    | 548      | 113     | 47     | 84     | 68        | 1082   | 13666667 | 0.0791707\n",
       "Al-Farouq Aminu | 24   | DAL  | 74    | 342      | 59      | 70     | 62     | 55        | 412    | 1100602  | 0.374341\n",
       "Alan Anderson   | 32   | BRK  | 74    | 204      | 83      | 56     | 5      | 60        | 545    | 1276061  | 0.427096\n",
       "Alec Burks      | 23   | UTA  | 27    | 114      | 82      | 17     | 5      | 52        | 374    | 3034356  | 0.123255\n",
       "Alex Kirk       | 23   | CLE  | 5     | 1        | 1       | 0      | 0      | 0         | 4      | 507336   | 0.00788432\n",
       "... (482 rows omitted)"
      ]
     },
     "execution_count": 64,
     "metadata": {},
     "output_type": "execute_result"
    }
   ],
   "source": [
    "players_value =  full_data.with_column('Value', full_data['Points'] / (full_data['Salary'] / 1000))\n",
    "full_data_with_value = players_value\n",
    "full_data_with_value"
   ]
  },
  {
   "cell_type": "code",
   "execution_count": 71,
   "metadata": {},
   "outputs": [
    {
     "data": {
      "image/png": "[encoded data removed]",
      "text/plain": [
       "<Figure size 1000x600 with 1 Axes>"
      ]
     },
     "metadata": {},
     "output_type": "display_data"
    }
   ],
   "source": [
    "plt.figure(figsize=(10, 6))\n",
    "plt.hist(players_value['Value'], bins=range(0, 10, 1), color='red', edgecolor='black')\n",
    "plt.title('Players Values')\n",
    "plt.xlabel('Points per $1000 Salary')\n",
    "plt.ylabel('Frequency')\n",
    "plt.grid(axis='y', linestyle='--', alpha=0.7)\n",
    "plt.show()"
   ]
  },
  {
   "cell_type": "markdown",
   "metadata": {},
   "source": [
    "Now suppose we weren't able to find out every player's salary (perhaps it was too costly to interview each player).  Instead, we have gathered a *simple random sample* of 100 players' salaries.  The cell below loads those data."
   ]
  },
  {
   "cell_type": "code",
   "execution_count": 72,
   "metadata": {
    "scrolled": true
   },
   "outputs": [
    {
     "data": {
      "text/html": [
       "<table border=\"1\" class=\"dataframe\">\n",
       "    <thead>\n",
       "        <tr>\n",
       "            <th>PlayerName</th> <th>Salary</th>\n",
       "        </tr>\n",
       "    </thead>\n",
       "    <tbody>\n",
       "        <tr>\n",
       "            <td>C.J. Watson     </td> <td>2106720</td>\n",
       "        </tr>\n",
       "        <tr>\n",
       "            <td>Taj Gibson      </td> <td>8000000</td>\n",
       "        </tr>\n",
       "        <tr>\n",
       "            <td>Jerrelle Benimon</td> <td>35000  </td>\n",
       "        </tr>\n",
       "    </tbody>\n",
       "</table>\n",
       "<p>... (97 rows omitted)</p>"
      ],
      "text/plain": [
       "<IPython.core.display.HTML object>"
      ]
     },
     "metadata": {},
     "output_type": "display_data"
    }
   ],
   "source": [
    "sample_salary_data = Table.read_table(\"sample_salary_data.csv\")\n",
    "sample_salary_data.show(3)"
   ]
  },
  {
   "cell_type": "markdown",
   "metadata": {},
   "source": [
    "**Question 3.** Make a histogram of the values of the players in `sample_salary_data`, using the same method for measuring value we used in question 2.  **Use the same bins, too.**  \n",
    "\n",
    "*Hint:* This will take several steps."
   ]
  },
  {
   "cell_type": "code",
   "execution_count": 76,
   "metadata": {
    "collapsed": true,
    "deletable": false,
    "for_assignment_type": "student",
    "jupyter": {
     "outputs_hidden": true
    },
    "manual_grade": true,
    "manual_problem_id": "sampling_players_3"
   },
   "outputs": [
    {
     "data": {
      "image/png": "[encoded data removed]",
      "text/plain": [
       "<Figure size 1000x600 with 1 Axes>"
      ]
     },
     "metadata": {},
     "output_type": "display_data"
    }
   ],
   "source": [
    "# Use this cell to make your histogram.\n",
    "\n",
    "plt.figure(figsize=(10, 6))\n",
    "plt.hist(sample_salary_data['Salary'], bins=range(0, 100000, 10000), color='skyblue', edgecolor='black')\n",
    "plt.title('Distribution of Player Salaries in Sample Salary Data')\n",
    "plt.xlabel('Salary ($)')\n",
    "plt.ylabel('Players')\n",
    "plt.grid(axis='y', linestyle='--', alpha=0.7)\n",
    "plt.show()"
   ]
  },
  {
   "cell_type": "markdown",
   "metadata": {},
   "source": [
    "Now let us summarize what we have seen.  To guide you, we have written most of the summary already.\n",
    "\n",
    "**Question 4.** Complete the statements below by filling in the [SQUARE BRACKETS]. \n",
    "\n",
    "*Hint 1:* For a refresher on distribution types, check out [Section 10.1](https://www.inferentialthinking.com/chapters/10/1/empirical-distributions.html)\n",
    "\n",
    "*Hint 2:* The `hist()` table method ignores data points outside the range of its bins, but you may ignore this fact and calculate the areas of the bars using what you know about histograms from lecture. "
   ]
  },
  {
   "cell_type": "markdown",
   "metadata": {
    "deletable": false,
    "for_assignment_type": "student",
    "manual_grade": true,
    "manual_problem_id": "sampling_players_4"
   },
   "source": [
    "The plot in question 2 displayed a(n) [RIGHT SKEWED] distribution of the population of [NBA] players.  The areas of the bars in the plot sum to [TOTAL PLAYERS].\n",
    "\n",
    "The plot in question 3 displayed a(n) [RIGHT SKEWED] distribution of the sample of [NBA] players.  The areas of the bars in the plot sum to [TOTAL PLAYERS SAMPLE]."
   ]
  },
  {
   "cell_type": "markdown",
   "metadata": {},
   "source": [
    "**Question 5.** For which range of values does the plot in question 3 better depict the distribution of the **population's player values**: 0 to 0.5, or above 0.5? "
   ]
  },
  {
   "cell_type": "markdown",
   "metadata": {
    "deletable": false,
    "manual_grade": true,
    "manual_problem_id": "sampling_players_5"
   },
   "source": [
    "0 to 0.5"
   ]
  },
  {
   "cell_type": "markdown",
   "metadata": {},
   "source": [
    "## 4. Earthquakes\n"
   ]
  },
  {
   "cell_type": "markdown",
   "metadata": {},
   "source": [
    "The next cell loads a table containing information about **every earthquake above a magnitude of 4.5** in 2017, compiled by the US Geological Survey. (source: https://earthquake.usgs.gov/earthquakes/search/)"
   ]
  },
  {
   "cell_type": "code",
   "execution_count": 77,
   "metadata": {
    "ExecuteTime": {
     "end_time": "2018-02-17T03:01:37.654915Z",
     "start_time": "2018-02-17T03:01:37.599746Z"
    }
   },
   "outputs": [
    {
     "data": {
      "text/html": [
       "<table border=\"1\" class=\"dataframe\">\n",
       "    <thead>\n",
       "        <tr>\n",
       "            <th>time</th> <th>mag</th> <th>place</th>\n",
       "        </tr>\n",
       "    </thead>\n",
       "    <tbody>\n",
       "        <tr>\n",
       "            <td>2017-12-31T23:48:50.980Z</td> <td>4.8 </td> <td>30km SSE of Pagan, Northern Mariana Islands      </td>\n",
       "        </tr>\n",
       "        <tr>\n",
       "            <td>2017-12-31T20:59:02.500Z</td> <td>5.1 </td> <td>Southern East Pacific Rise                       </td>\n",
       "        </tr>\n",
       "        <tr>\n",
       "            <td>2017-12-31T20:27:49.450Z</td> <td>5.2 </td> <td>Chagos Archipelago region                        </td>\n",
       "        </tr>\n",
       "        <tr>\n",
       "            <td>2017-12-31T19:42:41.250Z</td> <td>4.6 </td> <td>18km NE of Hasaki, Japan                         </td>\n",
       "        </tr>\n",
       "        <tr>\n",
       "            <td>2017-12-31T16:02:59.920Z</td> <td>4.5 </td> <td>Western Xizang                                   </td>\n",
       "        </tr>\n",
       "        <tr>\n",
       "            <td>2017-12-31T15:50:22.510Z</td> <td>4.5 </td> <td>156km SSE of Longyearbyen, Svalbard and Jan Mayen</td>\n",
       "        </tr>\n",
       "        <tr>\n",
       "            <td>2017-12-31T14:53:32.590Z</td> <td>5.1 </td> <td>41km S of Daliao, Philippines                    </td>\n",
       "        </tr>\n",
       "        <tr>\n",
       "            <td>2017-12-31T14:51:58.200Z</td> <td>5.1 </td> <td>132km SSW of Lata, Solomon Islands               </td>\n",
       "        </tr>\n",
       "        <tr>\n",
       "            <td>2017-12-31T12:24:13.150Z</td> <td>4.6 </td> <td>79km SSW of Hirara, Japan                        </td>\n",
       "        </tr>\n",
       "        <tr>\n",
       "            <td>2017-12-31T04:02:18.500Z</td> <td>4.8 </td> <td>10km W of Korini, Greece                         </td>\n",
       "        </tr>\n",
       "    </tbody>\n",
       "</table>\n",
       "<p>... (6350 rows omitted)</p>"
      ],
      "text/plain": [
       "time                     | mag  | place\n",
       "2017-12-31T23:48:50.980Z | 4.8  | 30km SSE of Pagan, Northern Mariana Islands\n",
       "2017-12-31T20:59:02.500Z | 5.1  | Southern East Pacific Rise\n",
       "2017-12-31T20:27:49.450Z | 5.2  | Chagos Archipelago region\n",
       "2017-12-31T19:42:41.250Z | 4.6  | 18km NE of Hasaki, Japan\n",
       "2017-12-31T16:02:59.920Z | 4.5  | Western Xizang\n",
       "2017-12-31T15:50:22.510Z | 4.5  | 156km SSE of Longyearbyen, Svalbard and Jan Mayen\n",
       "2017-12-31T14:53:32.590Z | 5.1  | 41km S of Daliao, Philippines\n",
       "2017-12-31T14:51:58.200Z | 5.1  | 132km SSW of Lata, Solomon Islands\n",
       "2017-12-31T12:24:13.150Z | 4.6  | 79km SSW of Hirara, Japan\n",
       "2017-12-31T04:02:18.500Z | 4.8  | 10km W of Korini, Greece\n",
       "... (6350 rows omitted)"
      ]
     },
     "execution_count": 77,
     "metadata": {},
     "output_type": "execute_result"
    }
   ],
   "source": [
    "earthquakes = Table().read_table('earthquakes_2017.csv').select(['time', 'mag', 'place'])\n",
    "earthquakes"
   ]
  },
  {
   "cell_type": "markdown",
   "metadata": {},
   "source": [
    "There are a lot of earthquakes that occured over the year 2017 that are of interest, and generally, we won't have access to this large population. Instead, if we sample correctly, we can take a small subsample of earthquakes in this year to get an idea about the distribution of magnitudes throughout the year!"
   ]
  },
  {
   "cell_type": "markdown",
   "metadata": {},
   "source": [
    "**Question 1.** In the following lines of code, we take two different samples from the earthquake table, and calculate the mean of the magnitudes of these earthquakes. Are these samples representative of the population of earthquakes in the original table (that is, the should we expect the mean to be close to the population mean)? \n",
    "\n",
    "*Hint:* Consider the ordering of the `earthquakes` table. "
   ]
  },
  {
   "cell_type": "code",
   "execution_count": 78,
   "metadata": {
    "ExecuteTime": {
     "end_time": "2018-02-17T03:01:37.666923Z",
     "start_time": "2018-02-17T03:01:37.656896Z"
    }
   },
   "outputs": [
    {
     "data": {
      "text/plain": [
       "[6.4229999999999992, 4.7749999999999995]"
      ]
     },
     "execution_count": 78,
     "metadata": {},
     "output_type": "execute_result"
    }
   ],
   "source": [
    "sample1 = earthquakes.sort('mag', descending = True).take(np.arange(100))\n",
    "sample1_magnitude_mean = np.mean(sample1.column('mag'))\n",
    "sample2 = earthquakes.take(np.arange(100))\n",
    "sample2_magnitude_mean = np.mean(sample2.column('mag'))\n",
    "[sample1_magnitude_mean, sample2_magnitude_mean]"
   ]
  },
  {
   "cell_type": "markdown",
   "metadata": {
    "deletable": false,
    "manual_problem_id": "earthquakes_1"
   },
   "source": [
    "*Write your answer here, replacing this text.*"
   ]
  },
  {
   "cell_type": "markdown",
   "metadata": {},
   "source": [
    "Sample 1 takes samples from the highest earthquake magnitude which is not what it should represent.\n",
    "\n",
    "Sample 2  is an ordered list of earthquakes (ascending order)\n",
    "\n",
    "in the original table we can observe values from 4 to five. However, this might not be the correct way to analyze magnitures."
   ]
  },
  {
   "cell_type": "markdown",
   "metadata": {},
   "source": [
    "**Question 2.** Write code producing a sample that should represent the population of size 500 then take the mean of the magnitudes of the earthquakes in this sample. Assign these to `representative_sample` and `representative_mean` respectively. \n",
    "\n",
    "*Hint:* In class, what sort of samples can properly represented the population?"
   ]
  },
  {
   "cell_type": "code",
   "execution_count": 82,
   "metadata": {
    "ExecuteTime": {
     "end_time": "2018-02-17T03:01:37.677950Z",
     "start_time": "2018-02-17T03:01:37.667925Z"
    }
   },
   "outputs": [
    {
     "name": "stdout",
     "output_type": "stream",
     "text": [
      "representative_sample:  time                     | mag  | place\n",
      "2017-11-02T04:22:46.530Z | 4.5  | 232km NW of Tobelo, Indonesia\n",
      "2017-03-14T05:55:21.510Z | 5.4  | 48km WNW of Lemito, Indonesia\n",
      "2017-05-07T08:08:35.760Z | 5    | 119km ESE of Neiafu, Tonga\n",
      "2017-06-17T03:54:52.630Z | 4.5  | 160km SSW of Lorengau, Papua New Guinea\n",
      "2017-05-01T12:31:55.590Z | 6.2  | 88km WNW of Skagway, Alaska\n",
      "2017-01-13T23:27:18.360Z | 4.7  | 139km NW of Nuku`alofa, Tonga\n",
      "2017-02-11T04:27:59.940Z | 5.4  | Pacific-Antarctic Ridge\n",
      "2017-05-30T07:20:32.680Z | 4.7  | 250km NNE of Tamrida, Yemen\n",
      "2017-09-16T21:00:56.910Z | 5.3  | 78km E of Petropavlovsk-Kamchatskiy, Russia\n",
      "2017-10-09T01:41:54.360Z | 4.7  | 141km N of Calama, Chile\n",
      "... (490 rows omitted)\n",
      "mean:  4.8648\n"
     ]
    }
   ],
   "source": [
    "representative_sample = earthquakes.sample(500, with_replacement = False)\n",
    "representative_mean = np.mean(representative_sample.column('mag'))\n",
    "\n",
    "print('representative_sample: ',representative_sample)\n",
    "print('mean: ',representative_mean)"
   ]
  },
  {
   "cell_type": "markdown",
   "metadata": {},
   "source": [
    "**Question 3.** Suppose we want to figure out what the biggest magnitude earthquake was in 2017, but we are tasked with doing this only with a sample of 500 from the earthquakes table. \n",
    "\n",
    "To determine whether trying to find the biggest magnitude from a sample is a plausible idea, write code that simulates the maximum of a random sample of size 500 from the `earthquakes` table 5000 times. Assign your array of maximums to `maximums`. "
   ]
  },
  {
   "cell_type": "code",
   "execution_count": 85,
   "metadata": {
    "ExecuteTime": {
     "end_time": "2018-02-17T03:01:44.666538Z",
     "start_time": "2018-02-17T03:01:37.708032Z"
    },
    "collapsed": true,
    "jupyter": {
     "outputs_hidden": true
    }
   },
   "outputs": [
    {
     "name": "stdout",
     "output_type": "stream",
     "text": [
      "maximums  [Ellipsis 7.1 7.3 ..., 7.0 7.1 7.7]\n"
     ]
    }
   ],
   "source": [
    "\n",
    "for i in np.arange(5000): \n",
    "    \n",
    "    random = earthquakes.sample(500, with_replacement=False)\n",
    "    magnitude = max(random.column('mag'))\n",
    "    maximums =  np.append(maximums, magnitude)\n",
    "    \n",
    "print('maximums ', maximums)"
   ]
  },
  {
   "cell_type": "code",
   "execution_count": 91,
   "metadata": {},
   "outputs": [
    {
     "ename": "TypeError",
     "evalue": "'<=' not supported between instances of 'ellipsis' and 'float'",
     "output_type": "error",
     "traceback": [
      "\u001b[0;31m---------------------------------------------------------------------------\u001b[0m",
      "\u001b[0;31mTypeError\u001b[0m                                 Traceback (most recent call last)",
      "Cell \u001b[0;32mIn[91], line 3\u001b[0m\n\u001b[1;32m      1\u001b[0m maximums \u001b[38;5;241m=\u001b[39m np\u001b[38;5;241m.\u001b[39marray(maximums)\n\u001b[0;32m----> 3\u001b[0m \u001b[43mTable\u001b[49m\u001b[43m(\u001b[49m\u001b[43m)\u001b[49m\u001b[38;5;241;43m.\u001b[39;49m\u001b[43mwith_column\u001b[49m\u001b[43m(\u001b[49m\u001b[38;5;124;43m'\u001b[39;49m\u001b[38;5;124;43mLargest magnitude in sample\u001b[39;49m\u001b[38;5;124;43m'\u001b[39;49m\u001b[43m,\u001b[49m\u001b[43m \u001b[49m\u001b[43mmaximums\u001b[49m\u001b[43m)\u001b[49m\u001b[38;5;241;43m.\u001b[39;49m\u001b[43mhist\u001b[49m\u001b[43m(\u001b[49m\n\u001b[1;32m      4\u001b[0m \u001b[43m    \u001b[49m\u001b[38;5;124;43m'\u001b[39;49m\u001b[38;5;124;43mLargest magnitude in sample\u001b[39;49m\u001b[38;5;124;43m'\u001b[39;49m\u001b[43m,\u001b[49m\n\u001b[1;32m      5\u001b[0m \u001b[43m    \u001b[49m\u001b[43mbins\u001b[49m\u001b[38;5;241;43m=\u001b[39;49m\u001b[43mnp\u001b[49m\u001b[38;5;241;43m.\u001b[39;49m\u001b[43marange\u001b[49m\u001b[43m(\u001b[49m\u001b[38;5;241;43m4\u001b[39;49m\u001b[43m,\u001b[49m\u001b[43m \u001b[49m\u001b[38;5;241;43m9\u001b[39;49m\u001b[43m,\u001b[49m\u001b[43m \u001b[49m\u001b[38;5;241;43m0.1\u001b[39;49m\u001b[43m)\u001b[49m\u001b[43m,\u001b[49m\n\u001b[1;32m      6\u001b[0m \u001b[43m    \u001b[49m\u001b[43medgecolor\u001b[49m\u001b[38;5;241;43m=\u001b[39;49m\u001b[38;5;124;43m'\u001b[39;49m\u001b[38;5;124;43mblack\u001b[39;49m\u001b[38;5;124;43m'\u001b[39;49m\u001b[43m,\u001b[49m\n\u001b[1;32m      7\u001b[0m \u001b[43m    \u001b[49m\u001b[43mxlabel\u001b[49m\u001b[38;5;241;43m=\u001b[39;49m\u001b[38;5;124;43m'\u001b[39;49m\u001b[38;5;124;43mLargest Magnitude (Sample)\u001b[39;49m\u001b[38;5;124;43m'\u001b[39;49m\u001b[43m,\u001b[49m\n\u001b[1;32m      8\u001b[0m \u001b[43m    \u001b[49m\u001b[43mylabel\u001b[49m\u001b[38;5;241;43m=\u001b[39;49m\u001b[38;5;124;43m'\u001b[39;49m\u001b[38;5;124;43mFrequency\u001b[39;49m\u001b[38;5;124;43m'\u001b[39;49m\u001b[43m,\u001b[49m\n\u001b[1;32m      9\u001b[0m \u001b[43m    \u001b[49m\u001b[43mtitle\u001b[49m\u001b[38;5;241;43m=\u001b[39;49m\u001b[38;5;124;43m'\u001b[39;49m\u001b[38;5;124;43mHistogram of Maximum Magnitudes from Simulations\u001b[39;49m\u001b[38;5;124;43m'\u001b[39;49m\n\u001b[1;32m     10\u001b[0m \u001b[43m)\u001b[49m\n\u001b[1;32m     12\u001b[0m \u001b[38;5;28mprint\u001b[39m(maximums)\n\u001b[1;32m     13\u001b[0m plt\u001b[38;5;241m.\u001b[39mshow()\n",
      "File \u001b[0;32m~/opt/anaconda3/lib/python3.8/site-packages/datascience/tables.py:5533\u001b[0m, in \u001b[0;36mTable.hist\u001b[0;34m(self, overlay, bins, bin_column, unit, counts, group, rug, side_by_side, left_end, right_end, width, height, *columns, **vargs)\u001b[0m\n\u001b[1;32m   5529\u001b[0m                 axis\u001b[38;5;241m.\u001b[39mscatter(values_for_hist, np\u001b[38;5;241m.\u001b[39mzeros_like(values_for_hist), marker\u001b[38;5;241m=\u001b[39m\u001b[38;5;124m\"\u001b[39m\u001b[38;5;124m|\u001b[39m\u001b[38;5;124m\"\u001b[39m,\n\u001b[1;32m   5530\u001b[0m                              color\u001b[38;5;241m=\u001b[39m\u001b[38;5;124m\"\u001b[39m\u001b[38;5;124mblack\u001b[39m\u001b[38;5;124m\"\u001b[39m, s\u001b[38;5;241m=\u001b[39m\u001b[38;5;241m100\u001b[39m, zorder\u001b[38;5;241m=\u001b[39m\u001b[38;5;241m10\u001b[39m)\n\u001b[1;32m   5531\u001b[0m             \u001b[38;5;28mtype\u001b[39m(\u001b[38;5;28mself\u001b[39m)\u001b[38;5;241m.\u001b[39mplots\u001b[38;5;241m.\u001b[39mappend(axis)\n\u001b[0;32m-> 5533\u001b[0m \u001b[43mdraw_hist\u001b[49m\u001b[43m(\u001b[49m\u001b[43mvalues_dict\u001b[49m\u001b[43m)\u001b[49m\n",
      "File \u001b[0;32m~/opt/anaconda3/lib/python3.8/site-packages/datascience/tables.py:5522\u001b[0m, in \u001b[0;36mTable.hist.<locals>.draw_hist\u001b[0;34m(values_dict)\u001b[0m\n\u001b[1;32m   5520\u001b[0m     vargs[\u001b[38;5;124m'\u001b[39m\u001b[38;5;124mweights\u001b[39m\u001b[38;5;124m'\u001b[39m] \u001b[38;5;241m=\u001b[39m weights[i]\n\u001b[1;32m   5521\u001b[0m axis\u001b[38;5;241m.\u001b[39mset_xlabel(hist_name \u001b[38;5;241m+\u001b[39m x_unit, fontsize\u001b[38;5;241m=\u001b[39m\u001b[38;5;241m16\u001b[39m)\n\u001b[0;32m-> 5522\u001b[0m heights, bins, patches \u001b[38;5;241m=\u001b[39m \u001b[43maxis\u001b[49m\u001b[38;5;241;43m.\u001b[39;49m\u001b[43mhist\u001b[49m\u001b[43m(\u001b[49m\u001b[43mvalues_for_hist\u001b[49m\u001b[43m,\u001b[49m\u001b[43m \u001b[49m\u001b[43mcolor\u001b[49m\u001b[38;5;241;43m=\u001b[39;49m\u001b[43mcolor\u001b[49m\u001b[43m,\u001b[49m\u001b[43m \u001b[49m\u001b[38;5;241;43m*\u001b[39;49m\u001b[38;5;241;43m*\u001b[39;49m\u001b[43mvargs\u001b[49m\u001b[43m)\u001b[49m\n\u001b[1;32m   5523\u001b[0m \u001b[38;5;28;01mif\u001b[39;00m left_end \u001b[38;5;129;01mis\u001b[39;00m \u001b[38;5;129;01mnot\u001b[39;00m \u001b[38;5;28;01mNone\u001b[39;00m \u001b[38;5;129;01mand\u001b[39;00m right_end \u001b[38;5;129;01mis\u001b[39;00m \u001b[38;5;129;01mnot\u001b[39;00m \u001b[38;5;28;01mNone\u001b[39;00m:\n\u001b[1;32m   5524\u001b[0m     x_shade, height_shade, width_shade \u001b[38;5;241m=\u001b[39m _compute_shading(heights, bins\u001b[38;5;241m.\u001b[39mcopy(), left_end, right_end)\n",
      "File \u001b[0;32m~/opt/anaconda3/lib/python3.8/site-packages/matplotlib/__init__.py:1446\u001b[0m, in \u001b[0;36m_preprocess_data.<locals>.inner\u001b[0;34m(ax, data, *args, **kwargs)\u001b[0m\n\u001b[1;32m   1443\u001b[0m \u001b[38;5;129m@functools\u001b[39m\u001b[38;5;241m.\u001b[39mwraps(func)\n\u001b[1;32m   1444\u001b[0m \u001b[38;5;28;01mdef\u001b[39;00m \u001b[38;5;21minner\u001b[39m(ax, \u001b[38;5;241m*\u001b[39margs, data\u001b[38;5;241m=\u001b[39m\u001b[38;5;28;01mNone\u001b[39;00m, \u001b[38;5;241m*\u001b[39m\u001b[38;5;241m*\u001b[39mkwargs):\n\u001b[1;32m   1445\u001b[0m     \u001b[38;5;28;01mif\u001b[39;00m data \u001b[38;5;129;01mis\u001b[39;00m \u001b[38;5;28;01mNone\u001b[39;00m:\n\u001b[0;32m-> 1446\u001b[0m         \u001b[38;5;28;01mreturn\u001b[39;00m \u001b[43mfunc\u001b[49m\u001b[43m(\u001b[49m\u001b[43max\u001b[49m\u001b[43m,\u001b[49m\u001b[43m \u001b[49m\u001b[38;5;241;43m*\u001b[39;49m\u001b[38;5;28;43mmap\u001b[39;49m\u001b[43m(\u001b[49m\u001b[43msanitize_sequence\u001b[49m\u001b[43m,\u001b[49m\u001b[43m \u001b[49m\u001b[43margs\u001b[49m\u001b[43m)\u001b[49m\u001b[43m,\u001b[49m\u001b[43m \u001b[49m\u001b[38;5;241;43m*\u001b[39;49m\u001b[38;5;241;43m*\u001b[39;49m\u001b[43mkwargs\u001b[49m\u001b[43m)\u001b[49m\n\u001b[1;32m   1448\u001b[0m     bound \u001b[38;5;241m=\u001b[39m new_sig\u001b[38;5;241m.\u001b[39mbind(ax, \u001b[38;5;241m*\u001b[39margs, \u001b[38;5;241m*\u001b[39m\u001b[38;5;241m*\u001b[39mkwargs)\n\u001b[1;32m   1449\u001b[0m     auto_label \u001b[38;5;241m=\u001b[39m (bound\u001b[38;5;241m.\u001b[39marguments\u001b[38;5;241m.\u001b[39mget(label_namer)\n\u001b[1;32m   1450\u001b[0m                   \u001b[38;5;129;01mor\u001b[39;00m bound\u001b[38;5;241m.\u001b[39mkwargs\u001b[38;5;241m.\u001b[39mget(label_namer))\n",
      "File \u001b[0;32m~/opt/anaconda3/lib/python3.8/site-packages/matplotlib/axes/_axes.py:6763\u001b[0m, in \u001b[0;36mAxes.hist\u001b[0;34m(self, x, bins, range, density, weights, cumulative, bottom, histtype, align, orientation, rwidth, log, color, label, stacked, **kwargs)\u001b[0m\n\u001b[1;32m   6759\u001b[0m \u001b[38;5;28;01mfor\u001b[39;00m xi \u001b[38;5;129;01min\u001b[39;00m x:\n\u001b[1;32m   6760\u001b[0m     \u001b[38;5;28;01mif\u001b[39;00m \u001b[38;5;28mlen\u001b[39m(xi):\n\u001b[1;32m   6761\u001b[0m         \u001b[38;5;66;03m# python's min/max ignore nan,\u001b[39;00m\n\u001b[1;32m   6762\u001b[0m         \u001b[38;5;66;03m# np.minnan returns nan for all nan input\u001b[39;00m\n\u001b[0;32m-> 6763\u001b[0m         xmin \u001b[38;5;241m=\u001b[39m \u001b[38;5;28mmin\u001b[39m(xmin, \u001b[43mnp\u001b[49m\u001b[38;5;241;43m.\u001b[39;49m\u001b[43mnanmin\u001b[49m\u001b[43m(\u001b[49m\u001b[43mxi\u001b[49m\u001b[43m)\u001b[49m)\n\u001b[1;32m   6764\u001b[0m         xmax \u001b[38;5;241m=\u001b[39m \u001b[38;5;28mmax\u001b[39m(xmax, np\u001b[38;5;241m.\u001b[39mnanmax(xi))\n\u001b[1;32m   6765\u001b[0m \u001b[38;5;28;01mif\u001b[39;00m xmin \u001b[38;5;241m<\u001b[39m\u001b[38;5;241m=\u001b[39m xmax:  \u001b[38;5;66;03m# Only happens if we have seen a finite value.\u001b[39;00m\n",
      "File \u001b[0;32m<__array_function__ internals>:200\u001b[0m, in \u001b[0;36mnanmin\u001b[0;34m(*args, **kwargs)\u001b[0m\n",
      "File \u001b[0;32m~/opt/anaconda3/lib/python3.8/site-packages/numpy/lib/nanfunctions.py:350\u001b[0m, in \u001b[0;36mnanmin\u001b[0;34m(a, axis, out, keepdims, initial, where)\u001b[0m\n\u001b[1;32m    347\u001b[0m \u001b[38;5;28;01melse\u001b[39;00m:\n\u001b[1;32m    348\u001b[0m     \u001b[38;5;66;03m# Slow, but safe for subclasses of ndarray\u001b[39;00m\n\u001b[1;32m    349\u001b[0m     a, mask \u001b[38;5;241m=\u001b[39m _replace_nan(a, \u001b[38;5;241m+\u001b[39mnp\u001b[38;5;241m.\u001b[39minf)\n\u001b[0;32m--> 350\u001b[0m     res \u001b[38;5;241m=\u001b[39m \u001b[43mnp\u001b[49m\u001b[38;5;241;43m.\u001b[39;49m\u001b[43mamin\u001b[49m\u001b[43m(\u001b[49m\u001b[43ma\u001b[49m\u001b[43m,\u001b[49m\u001b[43m \u001b[49m\u001b[43maxis\u001b[49m\u001b[38;5;241;43m=\u001b[39;49m\u001b[43maxis\u001b[49m\u001b[43m,\u001b[49m\u001b[43m \u001b[49m\u001b[43mout\u001b[49m\u001b[38;5;241;43m=\u001b[39;49m\u001b[43mout\u001b[49m\u001b[43m,\u001b[49m\u001b[43m \u001b[49m\u001b[38;5;241;43m*\u001b[39;49m\u001b[38;5;241;43m*\u001b[39;49m\u001b[43mkwargs\u001b[49m\u001b[43m)\u001b[49m\n\u001b[1;32m    351\u001b[0m     \u001b[38;5;28;01mif\u001b[39;00m mask \u001b[38;5;129;01mis\u001b[39;00m \u001b[38;5;28;01mNone\u001b[39;00m:\n\u001b[1;32m    352\u001b[0m         \u001b[38;5;28;01mreturn\u001b[39;00m res\n",
      "File \u001b[0;32m<__array_function__ internals>:200\u001b[0m, in \u001b[0;36mamin\u001b[0;34m(*args, **kwargs)\u001b[0m\n",
      "File \u001b[0;32m~/opt/anaconda3/lib/python3.8/site-packages/numpy/core/fromnumeric.py:2946\u001b[0m, in \u001b[0;36mamin\u001b[0;34m(a, axis, out, keepdims, initial, where)\u001b[0m\n\u001b[1;32m   2829\u001b[0m \u001b[38;5;129m@array_function_dispatch\u001b[39m(_amin_dispatcher)\n\u001b[1;32m   2830\u001b[0m \u001b[38;5;28;01mdef\u001b[39;00m \u001b[38;5;21mamin\u001b[39m(a, axis\u001b[38;5;241m=\u001b[39m\u001b[38;5;28;01mNone\u001b[39;00m, out\u001b[38;5;241m=\u001b[39m\u001b[38;5;28;01mNone\u001b[39;00m, keepdims\u001b[38;5;241m=\u001b[39mnp\u001b[38;5;241m.\u001b[39m_NoValue, initial\u001b[38;5;241m=\u001b[39mnp\u001b[38;5;241m.\u001b[39m_NoValue,\n\u001b[1;32m   2831\u001b[0m          where\u001b[38;5;241m=\u001b[39mnp\u001b[38;5;241m.\u001b[39m_NoValue):\n\u001b[1;32m   2832\u001b[0m \u001b[38;5;250m    \u001b[39m\u001b[38;5;124;03m\"\"\"\u001b[39;00m\n\u001b[1;32m   2833\u001b[0m \u001b[38;5;124;03m    Return the minimum of an array or minimum along an axis.\u001b[39;00m\n\u001b[1;32m   2834\u001b[0m \n\u001b[0;32m   (...)\u001b[0m\n\u001b[1;32m   2944\u001b[0m \u001b[38;5;124;03m    6\u001b[39;00m\n\u001b[1;32m   2945\u001b[0m \u001b[38;5;124;03m    \"\"\"\u001b[39;00m\n\u001b[0;32m-> 2946\u001b[0m     \u001b[38;5;28;01mreturn\u001b[39;00m \u001b[43m_wrapreduction\u001b[49m\u001b[43m(\u001b[49m\u001b[43ma\u001b[49m\u001b[43m,\u001b[49m\u001b[43m \u001b[49m\u001b[43mnp\u001b[49m\u001b[38;5;241;43m.\u001b[39;49m\u001b[43mminimum\u001b[49m\u001b[43m,\u001b[49m\u001b[43m \u001b[49m\u001b[38;5;124;43m'\u001b[39;49m\u001b[38;5;124;43mmin\u001b[39;49m\u001b[38;5;124;43m'\u001b[39;49m\u001b[43m,\u001b[49m\u001b[43m \u001b[49m\u001b[43maxis\u001b[49m\u001b[43m,\u001b[49m\u001b[43m \u001b[49m\u001b[38;5;28;43;01mNone\u001b[39;49;00m\u001b[43m,\u001b[49m\u001b[43m \u001b[49m\u001b[43mout\u001b[49m\u001b[43m,\u001b[49m\n\u001b[1;32m   2947\u001b[0m \u001b[43m                          \u001b[49m\u001b[43mkeepdims\u001b[49m\u001b[38;5;241;43m=\u001b[39;49m\u001b[43mkeepdims\u001b[49m\u001b[43m,\u001b[49m\u001b[43m \u001b[49m\u001b[43minitial\u001b[49m\u001b[38;5;241;43m=\u001b[39;49m\u001b[43minitial\u001b[49m\u001b[43m,\u001b[49m\u001b[43m \u001b[49m\u001b[43mwhere\u001b[49m\u001b[38;5;241;43m=\u001b[39;49m\u001b[43mwhere\u001b[49m\u001b[43m)\u001b[49m\n",
      "File \u001b[0;32m~/opt/anaconda3/lib/python3.8/site-packages/numpy/core/fromnumeric.py:86\u001b[0m, in \u001b[0;36m_wrapreduction\u001b[0;34m(obj, ufunc, method, axis, dtype, out, **kwargs)\u001b[0m\n\u001b[1;32m     83\u001b[0m         \u001b[38;5;28;01melse\u001b[39;00m:\n\u001b[1;32m     84\u001b[0m             \u001b[38;5;28;01mreturn\u001b[39;00m reduction(axis\u001b[38;5;241m=\u001b[39maxis, out\u001b[38;5;241m=\u001b[39mout, \u001b[38;5;241m*\u001b[39m\u001b[38;5;241m*\u001b[39mpasskwargs)\n\u001b[0;32m---> 86\u001b[0m \u001b[38;5;28;01mreturn\u001b[39;00m \u001b[43mufunc\u001b[49m\u001b[38;5;241;43m.\u001b[39;49m\u001b[43mreduce\u001b[49m\u001b[43m(\u001b[49m\u001b[43mobj\u001b[49m\u001b[43m,\u001b[49m\u001b[43m \u001b[49m\u001b[43maxis\u001b[49m\u001b[43m,\u001b[49m\u001b[43m \u001b[49m\u001b[43mdtype\u001b[49m\u001b[43m,\u001b[49m\u001b[43m \u001b[49m\u001b[43mout\u001b[49m\u001b[43m,\u001b[49m\u001b[43m \u001b[49m\u001b[38;5;241;43m*\u001b[39;49m\u001b[38;5;241;43m*\u001b[39;49m\u001b[43mpasskwargs\u001b[49m\u001b[43m)\u001b[49m\n",
      "\u001b[0;31mTypeError\u001b[0m: '<=' not supported between instances of 'ellipsis' and 'float'"
     ]
    },
    {
     "data": {
      "image/png": "[encoded data removed]",
      "text/plain": [
       "<Figure size 600x400 with 1 Axes>"
      ]
     },
     "metadata": {},
     "output_type": "display_data"
    }
   ],
   "source": [
    "maximums = np.array(maximums)\n",
    "\n",
    "Table().with_column('Largest magnitude in sample', maximums).hist(\n",
    "    'Largest magnitude in sample',\n",
    "    bins=np.arange(4, 9, 0.1),\n",
    "    edgecolor='black',\n",
    "    xlabel='Largest Magnitude (Sample)',\n",
    "    ylabel='Frequency',\n",
    "    title='Histogram of Maximum Magnitudes from Simulations'\n",
    ")\n",
    "\n",
    "print(maximums)\n",
    "plt.show()"
   ]
  },
  {
   "cell_type": "markdown",
   "metadata": {},
   "source": [
    "**Question 4.** Is a random sample of size 500 likely to help you determine the largest magnitude earthquake in the population? Find the magnitude of the (actual) strongest earthquake in 2017 to help you determine your answer. After this, explain whether you believe you can accurately use a sample size of 500 to determine the maximum. What is a specific con of using the maximum as your estimator? Use the histogram above to help answer. "
   ]
  },
  {
   "cell_type": "code",
   "execution_count": 96,
   "metadata": {
    "ExecuteTime": {
     "end_time": "2018-02-17T03:01:44.696619Z",
     "start_time": "2018-02-17T03:01:44.689602Z"
    }
   },
   "outputs": [
    {
     "name": "stdout",
     "output_type": "stream",
     "text": [
      "8.2\n"
     ]
    }
   ],
   "source": [
    "strongest_earthquake_magnitude = earthquakes.where('time', are.containing('2017')).column('mag')\n",
    "print(max(strongest_earthquake_magnitude))"
   ]
  },
  {
   "cell_type": "markdown",
   "metadata": {
    "deletable": false,
    "manual_problem_id": "earthquakes_4"
   },
   "source": [
    "Using a sample might work because we are using real data, and analyzing the dataseveral times. However, what if we miss important measurements... That is my concern."
   ]
  },
  {
   "cell_type": "markdown",
   "metadata": {},
   "source": [
    "**Question 5.** We would like to try and accurately predict the magnitude of the largest earthquake using a sample of 500 by using a different statistic, rather than the maximum. \n",
    "\n",
    "Assign `valid_statistic` to either 1, 2, or 3 corresponding to the *best* option below that can be used to predict the maximum using a sample in general (not just in this specific example). \n",
    "\n",
    "1. The mean of a sample  \n",
    "2. The mean of a sample * 2\n",
    "3. The largest value - the smallest value (the range)"
   ]
  },
  {
   "cell_type": "markdown",
   "metadata": {},
   "source": [
    "valid_statistic = 1"
   ]
  },
  {
   "cell_type": "code",
   "execution_count": 97,
   "metadata": {
    "ExecuteTime": {
     "end_time": "2018-02-17T03:01:44.719691Z",
     "start_time": "2018-02-17T03:01:44.716673Z"
    },
    "collapsed": true,
    "jupyter": {
     "outputs_hidden": true
    }
   },
   "outputs": [],
   "source": [
    "valid_statistic = 1"
   ]
  },
  {
   "cell_type": "markdown",
   "metadata": {},
   "source": [
    "**Question 6:** Just as we did before with the max, we would like to see if this new statistic is a good idea.\n",
    "\n",
    "Simulate 5000 times the action of sampling 500 instances from the `earthquake` table, keeping track of the observed values of our test statistic from above. Then, make a histogram out of these test statistics. Be sure to keep track of your statistics in the `other_statistic` variable. "
   ]
  },
  {
   "cell_type": "code",
   "execution_count": 99,
   "metadata": {
    "ExecuteTime": {
     "end_time": "2018-02-17T03:01:52.105393Z",
     "start_time": "2018-02-17T03:01:44.737728Z"
    },
    "collapsed": true,
    "jupyter": {
     "outputs_hidden": true
    }
   },
   "outputs": [
    {
     "data": {
      "image/png": "[encoded data removed]",
      "text/plain": [
       "<Figure size 600x400 with 1 Axes>"
      ]
     },
     "metadata": {},
     "output_type": "display_data"
    }
   ],
   "source": [
    "other_statistic = make_array()\n",
    "\n",
    "for i in np.arange(5000): \n",
    "    sample = earthquakes.sample(500) # we take 500\n",
    "    test_statistic = np.mean(sample.column('mag'))\n",
    "    \n",
    "    other_statistic = np.append(other_statistic, test_statistic)\n",
    "\n",
    "\n",
    "Table().with_column('Test Statistic', other_statistic).hist(edgecolor='black')\n",
    "\n",
    "\n",
    "plt.xlabel('Test Statistic (Mean of Sample)')\n",
    "plt.ylabel('Frequency')\n",
    "plt.title('Histogram of Test Statistics')\n",
    "plt.show()"
   ]
  },
  {
   "cell_type": "code",
   "execution_count": 100,
   "metadata": {},
   "outputs": [
    {
     "data": {
      "image/png": "[encoded data removed]",
      "text/plain": [
       "<Figure size 600x400 with 1 Axes>"
      ]
     },
     "metadata": {},
     "output_type": "display_data"
    }
   ],
   "source": [
    "#Histogram of your statistics\n",
    "Table().with_column('New Statistic', other_statistic).hist('New Statistic') "
   ]
  },
  {
   "cell_type": "markdown",
   "metadata": {},
   "source": [
    "**Question 7.** Does our new statistic look like a reasonable predictor for the maximum? Explain why or why not. \n",
    "\n",
    "*Hint:* Remember what exactly this table is representing. Go back up and read the description of the table. "
   ]
  },
  {
   "cell_type": "markdown",
   "metadata": {
    "deletable": false,
    "manual_problem_id": "earthquake_7"
   },
   "source": [
    "it is reasonable."
   ]
  },
  {
   "cell_type": "markdown",
   "metadata": {},
   "source": [
    "## 5. Assessing Gary's Models\n",
    "#### Games with Gary"
   ]
  },
  {
   "cell_type": "markdown",
   "metadata": {},
   "source": [
    "Our friend Gary comes over and asks us to play a game with him. The game works like this: \n",
    "\n",
    "> We will flip a fair coin 10 times, and if the number of heads is greater than or equal to 5, we win!\n",
    "> \n",
    "> Otherwise, Gary wins.\n",
    "\n",
    "We play the game once and we lose, observing 2 heads. We are angry and accuse Gary of cheating! Gary is adamant, however, that the coin is fair.\n",
    "\n",
    "Gary's model claims that there is an equal chance of getting heads or tails, but we do not believe him. We believe that the coin is clearly rigged, with heads being less likely than tails. "
   ]
  },
  {
   "cell_type": "markdown",
   "metadata": {},
   "source": [
    "#### Question 1\n",
    "Assign `coin_model_probabilities` to a two-item array containing the chance of heads as the first element and the chance of tails as the second element under Gary's model. Make sure your values are between 0 and 1. "
   ]
  },
  {
   "cell_type": "code",
   "execution_count": 101,
   "metadata": {},
   "outputs": [
    {
     "data": {
      "text/plain": [
       "array([ 0.8,  0.2])"
      ]
     },
     "execution_count": 101,
     "metadata": {},
     "output_type": "execute_result"
    }
   ],
   "source": [
    "coin_model_probabilities = make_array(0.8, 0.2)\n",
    "\n",
    "coin_model_probabilities"
   ]
  },
  {
   "cell_type": "markdown",
   "metadata": {},
   "source": [
    "**Question 2**\n",
    "\n",
    "We believe Gary's model is incorrect. In particular, we believe there to be a smaller chance of heads. Which of the following statistics can we use during our simulation to test between the model and our alternative? Assign `statistic_choice` as the correct answer. \n",
    "\n",
    "1. The distance (absolute value) between the actual number of heads in 10 flips and the expected number of heads in 10 flips (5)\n",
    "2. The expected number of heads in 10 flips\n",
    "3. The actual number of heads we get in 10 flips\n",
    "\n"
   ]
  },
  {
   "cell_type": "code",
   "execution_count": 102,
   "metadata": {},
   "outputs": [
    {
     "data": {
      "text/plain": [
       "1"
      ]
     },
     "execution_count": 102,
     "metadata": {},
     "output_type": "execute_result"
    }
   ],
   "source": [
    "statistic_choice = 1\n",
    "statistic_choice"
   ]
  },
  {
   "cell_type": "markdown",
   "metadata": {},
   "source": [
    "#### Question 3\n",
    "\n",
    "Define the function `coin_simulation_and_statistic`, which, given a sample size and an array of model proportions (like the one you created in Q1), returns the number of heads in one simulation of flipping the coin under the model specified in `model_proportions`. \n",
    "\n",
    "*Hint:* Think about how you can use the function `sample_proportions`. "
   ]
  },
  {
   "cell_type": "code",
   "execution_count": 110,
   "metadata": {
    "collapsed": true,
    "for_assignment_type": "student",
    "jupyter": {
     "outputs_hidden": true
    }
   },
   "outputs": [
    {
     "data": {
      "text/plain": [
       "10"
      ]
     },
     "execution_count": 110,
     "metadata": {},
     "output_type": "execute_result"
    }
   ],
   "source": [
    "def coin_simulation_and_statistic(sample_size, model_proportions):\n",
    "  \n",
    "    simulate = sample_proportions(sample_size, model_proportions)\n",
    "    heads = int(simulate.item(0) * sample_size)\n",
    "    \n",
    "    return heads\n",
    "\n",
    "coin_simulation_and_statistic(10, coin_model_probabilities)"
   ]
  },
  {
   "cell_type": "markdown",
   "metadata": {},
   "source": [
    "**Question 4** \n",
    "\n",
    "Use your function from above to simulate the flipping of 10 coins 5000 times under the proportions that you specified in problem 1. Keep track of all of your statistics in `coin_statistics`. "
   ]
  },
  {
   "cell_type": "code",
   "execution_count": 113,
   "metadata": {
    "collapsed": true,
    "jupyter": {
     "outputs_hidden": true
    }
   },
   "outputs": [],
   "source": [
    "coin_statistics = np.array([])\n",
    "repetitions = 5000\n",
    "\n",
    "for i in range(repetitions): \n",
    "    statistics = coin_simulation_and_statistic(10, coin_model_probabilities)\n",
    "\n",
    "coin_statistics = np.append(coin_statistics,statistics)"
   ]
  },
  {
   "cell_type": "markdown",
   "metadata": {},
   "source": [
    "Let's take a look at the distribution of statistics, using a histogram. "
   ]
  },
  {
   "cell_type": "code",
   "execution_count": 114,
   "metadata": {},
   "outputs": [
    {
     "data": {
      "image/png": "[encoded data removed]",
      "text/plain": [
       "<Figure size 600x400 with 1 Axes>"
      ]
     },
     "metadata": {},
     "output_type": "display_data"
    }
   ],
   "source": [
    "#Draw a distribution of statistics \n",
    "Table().with_column('Coin Statistics', coin_statistics).hist()"
   ]
  },
  {
   "cell_type": "markdown",
   "metadata": {},
   "source": [
    "#### Question 5\n",
    "Given your observed value, do you believe that Gary's model is reasonable, or is our alternative more likely? Explain your answer using the distribution drawn in the previous problem. "
   ]
  },
  {
   "cell_type": "markdown",
   "metadata": {
    "deletable": false,
    "manual_problem_id": "dice_and_coins_5"
   },
   "source": [
    "based on the histogram, we can observe that the 8% is predominant over the 2%"
   ]
  },
  {
   "cell_type": "markdown",
   "metadata": {},
   "source": [
    "## 6. Submission\n"
   ]
  },
  {
   "cell_type": "markdown",
   "metadata": {
    "collapsed": true
   },
   "source": [
    "Once you're finished, select \"Save and Checkpoint\" in the File menu and upload your notebook on Canvas."
   ]
  }
 ],
 "metadata": {
  "kernelspec": {
   "display_name": "Python 3 (ipykernel)",
   "language": "python",
   "name": "python3"
  },
  "language_info": {
   "codemirror_mode": {
    "name": "ipython",
    "version": 3
   },
   "file_extension": ".py",
   "mimetype": "text/x-python",
   "name": "python",
   "nbconvert_exporter": "python",
   "pygments_lexer": "ipython3",
   "version": "3.8.18"
  }
 },
 "nbformat": 4,
 "nbformat_minor": 4
}
