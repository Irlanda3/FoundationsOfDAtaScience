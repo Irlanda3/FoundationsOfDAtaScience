{
 "cells": [
  {
   "cell_type": "markdown",
   "metadata": {},
   "source": [
    "# Homework 8: Confidence Intervals"
   ]
  },
  {
   "cell_type": "markdown",
   "metadata": {},
   "source": [
    "**Reading**: Textbook chapter [13](https://www.inferentialthinking.com/chapters/13/estimation.html)."
   ]
  },
  {
   "cell_type": "markdown",
   "metadata": {},
   "source": [
    "Please complete this notebook by filling in the cells provided. \n",
    "\n",
    "Homework 8 is due **Monday, 3/25 at 11:59pm**. Start early so that you can come to office hours if you're stuck. Check the website for the office hours schedule. Late work will not be accepted as per the course policy. \n",
    "\n",
    "Directly sharing answers is not okay, but discussing problems with the course staff or with other students is encouraged. Refer to the policies page to learn more about how to learn cooperatively.\n",
    "\n",
    "For all problems that you must write our explanations and sentences for, you **must** provide your answer in the designated space. Moreover, throughout this homework and all future ones, please be sure to not re-assign variables throughout the notebook! For example, if you use `max_temperature` in your answer to one question, do not reassign it later on."
   ]
  },
  {
   "cell_type": "code",
   "execution_count": 1,
   "metadata": {},
   "outputs": [],
   "source": [
    "# Don't change this cell; just run it. \n",
    "\n",
    "import numpy as np\n",
    "from datascience import *\n",
    "\n",
    "# These lines do some fancy plotting magic.\n",
    "import matplotlib\n",
    "%matplotlib inline\n",
    "import matplotlib.pyplot as plt\n",
    "plt.style.use('fivethirtyeight')\n",
    "import warnings\n",
    "warnings.simplefilter('ignore', FutureWarning)"
   ]
  },
  {
   "cell_type": "markdown",
   "metadata": {},
   "source": [
    "## 1. Plot the Vote\n"
   ]
  },
  {
   "cell_type": "markdown",
   "metadata": {},
   "source": [
    "Four candidates are running for President of Dataland. A polling company surveys 1000 people selected uniformly at random from among voters in Dataland, and it asks each one who they are planning on voting for. After compiling the results, the polling company releases the following proportions from their sample:\n",
    "\n",
    "|Candidate  | Proportion|\n",
    "|:------------:|:------------:|\n",
    "|Candidate C | 0.47 |\n",
    "|Candidate T | 0.38 |\n",
    "|Candidate J | 0.08 |\n",
    "|Candidate S | 0.03 |\n",
    "|Undecided   | 0.04 |\n",
    "\n",
    "These proportions represent a uniform random sample of the population of Dataland. We will attempt to estimate the corresponding *population parameters* - the proportion of the vote that each candidate received from the entire population.  We will use confidence intervals to compute a range of values that reflects the uncertainty of our estimate.\n",
    "\n",
    "The table `votes` contains the results of the survey. Candidates are represented by their initials. Undecided voters are denoted by `U`."
   ]
  },
  {
   "cell_type": "code",
   "execution_count": 2,
   "metadata": {},
   "outputs": [
    {
     "data": {
      "text/html": [
       "<table border=\"1\" class=\"dataframe\">\n",
       "    <thead>\n",
       "        <tr>\n",
       "            <th>vote</th>\n",
       "        </tr>\n",
       "    </thead>\n",
       "    <tbody>\n",
       "        <tr>\n",
       "            <td>T   </td>\n",
       "        </tr>\n",
       "        <tr>\n",
       "            <td>T   </td>\n",
       "        </tr>\n",
       "        <tr>\n",
       "            <td>C   </td>\n",
       "        </tr>\n",
       "        <tr>\n",
       "            <td>C   </td>\n",
       "        </tr>\n",
       "        <tr>\n",
       "            <td>C   </td>\n",
       "        </tr>\n",
       "        <tr>\n",
       "            <td>C   </td>\n",
       "        </tr>\n",
       "        <tr>\n",
       "            <td>C   </td>\n",
       "        </tr>\n",
       "        <tr>\n",
       "            <td>C   </td>\n",
       "        </tr>\n",
       "        <tr>\n",
       "            <td>T   </td>\n",
       "        </tr>\n",
       "        <tr>\n",
       "            <td>T   </td>\n",
       "        </tr>\n",
       "    </tbody>\n",
       "</table>\n",
       "<p>... (990 rows omitted)</p>"
      ],
      "text/plain": [
       "vote\n",
       "T\n",
       "T\n",
       "C\n",
       "C\n",
       "C\n",
       "C\n",
       "C\n",
       "C\n",
       "T\n",
       "T\n",
       "... (990 rows omitted)"
      ]
     },
     "execution_count": 2,
     "metadata": {},
     "output_type": "execute_result"
    }
   ],
   "source": [
    "votes = Table().with_column('vote', np.array(['C']*470 + ['T']*380 + ['J']*80 + ['S']*30 + ['U']*40))\n",
    "num_votes = votes.num_rows\n",
    "votes.sample()"
   ]
  },
  {
   "cell_type": "markdown",
   "metadata": {},
   "source": [
    "**Question 1.** Below, complete the given  code that will use bootstrapped samples from `votes` to compute estimates of the true proportion of voters who are planning on voting for **Candidate C**. Make sure that you understand what's going on here. It may be helpful to explain `proportions_in_resamples` to a friend or TA."
   ]
  },
  {
   "cell_type": "code",
   "execution_count": 6,
   "metadata": {
    "collapsed": true,
    "for_assignment_type": "student",
    "jupyter": {
     "outputs_hidden": true
    }
   },
   "outputs": [],
   "source": [
    "def proportions_in_resamples():\n",
    "    prop_c = make_array()\n",
    "    for i in np.arange(5000):\n",
    "        bootstrap = votes.sample()\n",
    "        single_proportion = np.count_nonzero(bootstrap.column('vote') == 'C') / bootstrap.num_rows\n",
    "        prop_c = np.append(prop_c, single_proportion)\n",
    "    return prop_c\n",
    "\n"
   ]
  },
  {
   "cell_type": "markdown",
   "metadata": {},
   "source": [
    "In the following cell, we run the function you just defined, `proportions_in_resamples`, and create a histogram of the calculated statistic for the 5,000 bootstraps. Based on what the original polling proportions were, does the graph seem reasonable? Talk to a friend or ask a TA if you are unsure!"
   ]
  },
  {
   "cell_type": "code",
   "execution_count": 7,
   "metadata": {},
   "outputs": [
    {
     "data": {
      "image/png": "[encoded data removed]",
      "text/plain": [
       "<Figure size 600x400 with 1 Axes>"
      ]
     },
     "metadata": {},
     "output_type": "display_data"
    }
   ],
   "source": [
    "sampled_proportions = proportions_in_resamples()\n",
    "Table().with_column('Estimated Proportion', sampled_proportions).hist(bins=np.arange(0.2,0.6,0.01))"
   ]
  },
  {
   "cell_type": "markdown",
   "metadata": {},
   "source": [
    "**Question 2.** Using the array `sampled_proportions`, find the values that bound the middle 95% of the values in the data. (Compute the lower and upper ends of the interval, named `c_lower_bound` and `c_upper_bound`, respectively.)"
   ]
  },
  {
   "cell_type": "code",
   "execution_count": 10,
   "metadata": {},
   "outputs": [
    {
     "name": "stdout",
     "output_type": "stream",
     "text": [
      "Bootstrapped 95% confidence interval for the proportion of C voters in the population: [0.439000, 0.501000]\n"
     ]
    }
   ],
   "source": [
    "c_lower_bound = np.percentile(sampled_proportions, 2.5)\n",
    "c_upper_bound = np.percentile(sampled_proportions, 97.5)\n",
    "\n",
    "print(\"Bootstrapped 95% confidence interval for the proportion of C voters in the population: [{:f}, {:f}]\".format(c_lower_bound, c_upper_bound))\n",
    "#candidate C between 43.9% and 50.1 votes%"
   ]
  },
  {
   "cell_type": "markdown",
   "metadata": {},
   "source": [
    "**Question 3.** What does the interval you have just found represent?"
   ]
  },
  {
   "cell_type": "markdown",
   "metadata": {
    "deletable": false,
    "manual_problem_id": "election_3"
   },
   "source": [
    "*Write your answer here, replacing this text.*\n",
    "It tells us that the proportion of C voters in the population is between 43.9% and 50.1% and that is the confidence interval."
   ]
  },
  {
   "cell_type": "markdown",
   "metadata": {},
   "source": [
    "**Question 4.** The survey results seem to indicate that Candidate C is beating Candidate T among voters. We would like to use CI's to determine a range of likely values for her true *lead*. Candidate C's lead over Candidate T is:\n",
    "\n",
    "$$\\text{Candidate C's proportion of the vote} - \\text{Candidate T's proportion of the vote}.$$\n",
    "\n",
    "Using the function `proportions_in_resamples` above as a model, use the bootstrap to compute an approximate distribution for Candidate C's lead over Candidate T. Plot a histogram of the the resulting samples."
   ]
  },
  {
   "cell_type": "code",
   "execution_count": 14,
   "metadata": {
    "collapsed": true,
    "deletable": false,
    "for_assignment_type": "student",
    "jupyter": {
     "outputs_hidden": true
    },
    "manual_problem_id": "election_4"
   },
   "outputs": [],
   "source": [
    "bins = np.arange(-0.2, 0.2, 0.01)\n",
    "\n",
    "def leads_in_resamples():\n",
    "    \n",
    "    leads = make_array()\n",
    "    \n",
    "    for i in np.arange(5000):\n",
    "        bootstrap = votes.sample()\n",
    "        \n",
    "        prop_C = np.count_nonzero(bootstrap.column('vote') == 'C') / bootstrap.num_rows\n",
    "        prop_T = np.count_nonzero(bootstrap.column('vote') == 'T') / bootstrap.num_rows\n",
    "        \n",
    "        \n",
    "        lead = prop_C - prop_T\n",
    "        \n",
    "        leads = np.append(leads, lead)\n",
    "    return leads\n",
    "\n",
    "sampled_leads = leads_in_resamples()"
   ]
  },
  {
   "cell_type": "code",
   "execution_count": 15,
   "metadata": {},
   "outputs": [
    {
     "name": "stdout",
     "output_type": "stream",
     "text": [
      "Bootstrapped 95% confidence interval for Candidate C's true lead over Candidate T: [0.034000, 0.148000]\n"
     ]
    }
   ],
   "source": [
    "diff_lower_bound = np.percentile(sampled_leads, 2.5)\n",
    "diff_upper_bound = np.percentile(sampled_leads, 97.5)\n",
    "print(\"Bootstrapped 95% confidence interval for Candidate C's true lead over Candidate T: [{:f}, {:f}]\".format(diff_lower_bound, diff_upper_bound))"
   ]
  },
  {
   "cell_type": "markdown",
   "metadata": {},
   "source": [
    "## 2. Interpreting Confidence Intervals\n"
   ]
  },
  {
   "cell_type": "markdown",
   "metadata": {},
   "source": [
    "The staff computed the following 95% confidence interval for the proportion of Candidate C voters: \n",
    "\n",
    "$$[.439, .5]$$\n",
    "\n",
    "(Your answer might have been different; that doesn't mean it was wrong.)"
   ]
  },
  {
   "cell_type": "markdown",
   "metadata": {},
   "source": [
    "#### Question 1\n",
    "Can we say that 95% of the population lies in the range $[.439, .5]$? Explain your answer. "
   ]
  },
  {
   "cell_type": "markdown",
   "metadata": {
    "manual_problem_id": "interpreting_1"
   },
   "source": [
    "*Write your answer here, replacing this text.*\n",
    "We can definitely say that 95% of the population lies in the range because that is what was found."
   ]
  },
  {
   "cell_type": "markdown",
   "metadata": {},
   "source": [
    "#### Question 2\n",
    "Can we say that there is a 95% probability that the interval [.439, .5] contains the true proportion of the population who is voting for Candidate C? Explain your answer."
   ]
  },
  {
   "cell_type": "markdown",
   "metadata": {
    "manual_problem_id": "interpreting_2"
   },
   "source": [
    "*Write your answer here, replacing this text.* \n",
    "Well, this means that [.439, .5] contains the true proportion. And we are 95% sure.\n",
    "\n",
    "\n",
    "\n",
    "**A note about this question (this is outside of the scope of this class. If you don't already know what Bayesian and Frequentist reasoning are, don't worry about it!):** You may recall that there are different philosophical interpretation of probability. The Bayesian interpretation says that it is meaningful to talk about the probability that the interval covers the true proportion, but a Bayesian would perform a different calculation to calculate that number; we have no guarantee that it is 95%. All we are guaranteed is the statement in the answer to the next question.\n"
   ]
  },
  {
   "cell_type": "markdown",
   "metadata": {},
   "source": [
    "#### Question 3\n",
    "Suppose we produced 10,000 new samples (each one a uniform random sample of 1,000 voters) and created a 95% confidence interval from each one. Roughly how many of those 10,000 intervals do you expect will actually contain the true proportion of the population?"
   ]
  },
  {
   "cell_type": "markdown",
   "metadata": {
    "manual_problem_id": "interpreting_3"
   },
   "source": [
    "*Write your answer here, replacing this text.*\n",
    "Basically, we expect a confidence interval of 95% of the new 10,000."
   ]
  },
  {
   "cell_type": "markdown",
   "metadata": {},
   "source": [
    "**Question 4**\n",
    "\n",
    "The staff also created 80%, 90%, and 99% confidence intervals from one sample, but we forgot to label which confidence interval represented which percentages! Match the interval to the percent of confidence the interval represents. (Write the percentage after each interval below.) **Then**, explain your thought process."
   ]
  },
  {
   "cell_type": "markdown",
   "metadata": {
    "manual_problem_id": "interpreting_4"
   },
   "source": [
    "**Answers:**\n",
    "\n",
    "$[.444,.495]$: 90%\n",
    "\n",
    "$[.450,.490]$: 80%\n",
    "\n",
    "$[.430,.511]$: 99%"
   ]
  },
  {
   "cell_type": "markdown",
   "metadata": {},
   "source": [
    "*Write your explanation for your choices here,  replacing this text.*\n",
    "The size of the confidence interval"
   ]
  },
  {
   "cell_type": "markdown",
   "metadata": {},
   "source": [
    "#### Question 5\n",
    "\n",
    "Recall the second bootstrap confidence interval you created, estimating Candidate C's lead over Candidate T. Among voters in the sample, her lead was .09. The staff's 95% confidence interval for her true lead (in the population of all voters) was\n",
    "\n",
    "$$[.032,.15].$$\n",
    "\n",
    "Suppose we are interested in testing a simple yes-or-no question:\n",
    "\n",
    "> \"Are the candidates tied?\"\n",
    "\n",
    "Our null hypothesis is that the proportions are equal, or, equivalently, that Candidate C's lead is exactly 0. Our alternative hypothesis is that her lead is not equal to 0.  In the questions below, don't compute any confidence interval yourself - use only the staff's 95% confidence interval.\n",
    "\n",
    "\n",
    "**Question:** Say we use a 5% P-value cutoff.  Do we reject the null, fail to reject the null, or are we unable to tell using our staff confidence interval?\n",
    "\n",
    "*Hint:* If you're confused, take a look at [this chapter](https://www.inferentialthinking.com/chapters/13/4/using-confidence-intervals.html) of the textbook."
   ]
  },
  {
   "cell_type": "markdown",
   "metadata": {
    "collapsed": true,
    "jupyter": {
     "outputs_hidden": true
    },
    "manual_problem_id": "interpreting_5"
   },
   "source": [
    "*Write your answer here, replacing this text.*\n",
    "compare C.I. with Null Hypothesis. given [.032, .15] We can reject the null hypothesis. In other words, 0 is not in the confidence interval.\n"
   ]
  },
  {
   "cell_type": "markdown",
   "metadata": {},
   "source": [
    "#### Question 6\n",
    "What if, instead, we use a P-value cutoff of 1%? Do we reject the null, fail to reject the null, or are we unable to tell using our staff confidence interval?"
   ]
  },
  {
   "cell_type": "markdown",
   "metadata": {
    "collapsed": true,
    "jupyter": {
     "outputs_hidden": true
    },
    "manual_problem_id": "interpreting_6"
   },
   "source": [
    "*Write your answer here, replacing this text.*\n",
    "We know that 0 is not in the confidence interval and we are looking for a P-value cutoff of 1%."
   ]
  },
  {
   "cell_type": "markdown",
   "metadata": {},
   "source": [
    "#### Question 7\n",
    "What if we use a P-value cutoff of 10%? Do we reject, fail to reject, or are we unable to tell using our confidence interval?"
   ]
  },
  {
   "cell_type": "markdown",
   "metadata": {
    "manual_problem_id": "interpreting_7"
   },
   "source": [
    "*Write your answer here, replacing this text.*\n",
    "0 falls outside the confidence interval"
   ]
  },
  {
   "cell_type": "markdown",
   "metadata": {},
   "source": [
    "## 3. Submission\n"
   ]
  },
  {
   "cell_type": "markdown",
   "metadata": {
    "collapsed": true,
    "jupyter": {
     "outputs_hidden": true
    }
   },
   "source": [
    "Once you're finished, select \"Save and Checkpoint\" in the File menu and then upload your Notebook on Canvas."
   ]
  }
 ],
 "metadata": {
  "kernelspec": {
   "display_name": "Python 3 (ipykernel)",
   "language": "python",
   "name": "python3"
  },
  "language_info": {
   "codemirror_mode": {
    "name": "ipython",
    "version": 3
   },
   "file_extension": ".py",
   "mimetype": "text/x-python",
   "name": "python",
   "nbconvert_exporter": "python",
   "pygments_lexer": "ipython3",
   "version": "3.8.18"
  }
 },
 "nbformat": 4,
 "nbformat_minor": 4
}
